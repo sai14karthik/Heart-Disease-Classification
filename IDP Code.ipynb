{
  "cells": [
    {
      "cell_type": "code",
      "execution_count": 8,
      "metadata": {
        "id": "gx9ugrgPFFPX"
      },
      "outputs": [],
      "source": [
        "import numpy as np \n",
        "import pandas as pd\n",
        "import matplotlib.pyplot as plt\n",
        "import seaborn as sns\n",
        "%matplotlib inline"
      ]
    },
    {
      "cell_type": "code",
      "execution_count": 9,
      "metadata": {
        "id": "Ri80P3dNPfIT"
      },
      "outputs": [],
      "source": [
        "df=pd.read_csv(\"/Users/saikarthik/Desktop/Heart-Disease-Prediction-main/heart.csv\")"
      ]
    },
    {
      "cell_type": "code",
      "execution_count": 10,
      "metadata": {
        "colab": {
          "base_uri": "https://localhost:8080/"
        },
        "id": "YRTZ39Ut2-HH",
        "outputId": "62d6cd9e-bcf8-44fe-dc0c-5807a1d60ae9"
      },
      "outputs": [
        {
          "data": {
            "text/plain": [
              "(303, 14)"
            ]
          },
          "execution_count": 10,
          "metadata": {},
          "output_type": "execute_result"
        }
      ],
      "source": [
        "df.shape "
      ]
    },
    {
      "cell_type": "code",
      "execution_count": 11,
      "metadata": {
        "colab": {
          "base_uri": "https://localhost:8080/"
        },
        "id": "Y-jgEw1_lr9G",
        "outputId": "24b8add3-5e51-4e3c-96a3-4a097dcb84de"
      },
      "outputs": [
        {
          "name": "stdout",
          "output_type": "stream",
          "text": [
            "target\n",
            "1    165\n",
            "0    138\n",
            "Name: count, dtype: int64\n"
          ]
        }
      ],
      "source": [
        "target_count = df.target.value_counts()\n",
        "print(target_count)"
      ]
    },
    {
      "cell_type": "code",
      "execution_count": 12,
      "metadata": {
        "colab": {
          "base_uri": "https://localhost:8080/"
        },
        "id": "ULS_vz61lSYl",
        "outputId": "77a51605-1729-4be5-9ae0-44d5ca7c2ae5"
      },
      "outputs": [
        {
          "data": {
            "text/plain": [
              "<Axes: ylabel='count'>"
            ]
          },
          "execution_count": 12,
          "metadata": {},
          "output_type": "execute_result"
        },
        {
          "data": {
            "image/png": "[encoded data removed]",
            "text/plain": [
              "<Figure size 640x480 with 1 Axes>"
            ]
          },
          "metadata": {},
          "output_type": "display_data"
        }
      ],
      "source": [
        "y=df[\"target\"]\n",
        "sns.countplot(df[\"target\"])"
      ]
    },
    {
      "cell_type": "markdown",
      "metadata": {
        "id": "vL7SmlJQgkyZ"
      },
      "source": [
        "**1.Age:** The duration of something from its beginning up to the present. This attribute contains age of each person which ranges from 0 to 100. It plays a major role in heart disease prediction because most of the people who die due to heart disease are 60 and older."
      ]
    },
    {
      "cell_type": "markdown",
      "metadata": {
        "id": "JwIPSUcphhm_"
      },
      "source": [
        "**2.Sex:** Sex refers to the social and cultural distinctions between people who are male or female. This attribute contains sex of each person where 1 indicates male and 0 indicates female. It attributes plays a role in 2 different ways.\n",
        "\n",
        "\n",
        "*   Diabetes:  Females are more likely to have heart problems than males.\n",
        "*   No Diabetes: Males are more likely to have heart problems than females.\n",
        "\n"
      ]
    },
    {
      "cell_type": "code",
      "execution_count": 13,
      "metadata": {
        "colab": {
          "base_uri": "https://localhost:8080/"
        },
        "id": "UIPtq83yk98d",
        "outputId": "568c551b-bcc4-448b-cade-fe03207076a3"
      },
      "outputs": [
        {
          "data": {
            "text/plain": [
              "array([1, 0])"
            ]
          },
          "execution_count": 13,
          "metadata": {},
          "output_type": "execute_result"
        }
      ],
      "source": [
        "df[\"sex\"].unique()"
      ]
    },
    {
      "cell_type": "code",
      "execution_count": 14,
      "metadata": {
        "colab": {
          "base_uri": "https://localhost:8080/"
        },
        "id": "tn72aYWolDxw",
        "outputId": "e10618ad-319e-4367-cb8f-93d691d0f36b"
      },
      "outputs": [
        {
          "ename": "TypeError",
          "evalue": "barplot() takes from 0 to 1 positional arguments but 2 were given",
          "output_type": "error",
          "traceback": [
            "\u001b[0;31m---------------------------------------------------------------------------\u001b[0m",
            "\u001b[0;31mTypeError\u001b[0m                                 Traceback (most recent call last)",
            "Cell \u001b[0;32mIn[14], line 1\u001b[0m\n\u001b[0;32m----> 1\u001b[0m \u001b[43msns\u001b[49m\u001b[38;5;241;43m.\u001b[39;49m\u001b[43mbarplot\u001b[49m\u001b[43m(\u001b[49m\u001b[43mdf\u001b[49m\u001b[43m[\u001b[49m\u001b[38;5;124;43m\"\u001b[39;49m\u001b[38;5;124;43msex\u001b[39;49m\u001b[38;5;124;43m\"\u001b[39;49m\u001b[43m]\u001b[49m\u001b[43m,\u001b[49m\u001b[43my\u001b[49m\u001b[43m)\u001b[49m\n",
            "\u001b[0;31mTypeError\u001b[0m: barplot() takes from 0 to 1 positional arguments but 2 were given"
          ]
        }
      ],
      "source": [
        "sns.barplot(df[\"sex\"],y)"
      ]
    },
    {
      "cell_type": "markdown",
      "metadata": {
        "id": "FVJz6pL_mO8t"
      },
      "source": [
        "**3.Chest Pain:** Chest pain is discomfort or pain felt in the chest area. It can be a symptom of various medical conditions, such as heart attack,angina, or pneumonia. The pain may be sharp or dull, and may be felt in the center of the chest or in a specific area.\n",
        "\n",
        "This attribute contains the type of chest pain experienced by every person. There are 4 types of chest pains.\n",
        "\n",
        "\n",
        "1.   Typical Angina - indicates 0\n",
        "\n",
        "1.   Atypical Angina - indicates 1\n",
        "2.   Non-Anginal pain - indicates 2\n",
        "\n",
        "2.   Asymptotic - indicates 3\n",
        "\n",
        "So, these attribute ranges from 0 to 3.\n",
        "\n"
      ]
    },
    {
      "cell_type": "code",
      "execution_count": null,
      "metadata": {
        "colab": {
          "base_uri": "https://localhost:8080/"
        },
        "id": "P7ogYfHBm1me",
        "outputId": "3f917ee3-ea11-440e-ff0e-445d240908b7"
      },
      "outputs": [
        {
          "data": {
            "text/plain": [
              "array([3, 2, 1, 0])"
            ]
          },
          "execution_count": 8,
          "metadata": {},
          "output_type": "execute_result"
        }
      ],
      "source": [
        "df[\"cp\"].unique()"
      ]
    },
    {
      "cell_type": "code",
      "execution_count": null,
      "metadata": {
        "colab": {
          "base_uri": "https://localhost:8080/"
        },
        "id": "YB1lxlIRm4vD",
        "outputId": "94040747-4515-4027-fda7-539461b45cd7"
      },
      "outputs": [
        {
          "name": "stderr",
          "output_type": "stream",
          "text": [
            "/usr/local/lib/python3.8/dist-packages/seaborn/_decorators.py:36: FutureWarning: Pass the following variables as keyword args: x, y. From version 0.12, the only valid positional argument will be `data`, and passing other arguments without an explicit keyword will result in an error or misinterpretation.\n",
            "  warnings.warn(\n"
          ]
        },
        {
          "data": {
            "text/plain": [
              "<matplotlib.axes._subplots.AxesSubplot at 0x7f94afbc9490>"
            ]
          },
          "execution_count": 9,
          "metadata": {},
          "output_type": "execute_result"
        },
        {
          "data": {
            "image/png": "[encoded data removed]",
            "text/plain": [
              "<Figure size 432x288 with 1 Axes>"
            ]
          },
          "metadata": {
            "needs_background": "light"
          },
          "output_type": "display_data"
        }
      ],
      "source": [
        "sns.barplot(df[\"cp\"],y)"
      ]
    },
    {
      "cell_type": "markdown",
      "metadata": {
        "id": "8F7sYP0RnCQa"
      },
      "source": [
        "**4.Resting Blood Pressure**: Having high blood pressure can be detrimental, as it can damage the arteries that supply blood to the heart. If high blood pressure is accompanied by other health conditions such as obesity, high cholesterol or diabetes, the risk is even higher.\n",
        "\n",
        "This attribute contains the resting blood pressure value of every person in mmHg(unit)."
      ]
    },
    {
      "cell_type": "markdown",
      "metadata": {
        "id": "jAa9Xht-nnXq"
      },
      "source": [
        "**5.Serum Cholestrol:**Having a high amount of LDL cholesterol can lead to clogged arteries, whereas having a high amount of triglycerides, which are associated with diet, increases the risk of a heart attack. On the other hand, having a high level of HDL cholesterol, which is beneficial, reduces the risk of a heart attack.\n",
        "\n",
        "This attribute contains the serum Cholestrol of every person in mg/dl(unit)."
      ]
    },
    {
      "cell_type": "markdown",
      "metadata": {
        "id": "lVoFkG21oZ54"
      },
      "source": [
        "**6.Fasting Blood Sugar:**Having insufficient insulin secretion or an inability to effectively utilize insulin from your pancreas can cause your blood sugar levels to rise, putting you at greater risk of having a heart attack.\n",
        "\n",
        "This attributes compares Fasting Blood Sugar value of every person with 120mg/dl. This attribute contains 0's and 1's, where 1 indicates fasting blood sugar > 120mg/dl and 0 indicates fasting blood sugar <= 120mg/dl."
      ]
    },
    {
      "cell_type": "code",
      "execution_count": null,
      "metadata": {
        "colab": {
          "base_uri": "https://localhost:8080/"
        },
        "id": "ujSxOLvLlV-q",
        "outputId": "38c30099-e235-41c7-c429-429498bb6b14"
      },
      "outputs": [
        {
          "data": {
            "text/plain": [
              "array([1, 0])"
            ]
          },
          "execution_count": 10,
          "metadata": {},
          "output_type": "execute_result"
        }
      ],
      "source": [
        "df[\"fbs\"].unique()"
      ]
    },
    {
      "cell_type": "code",
      "execution_count": null,
      "metadata": {
        "colab": {
          "base_uri": "https://localhost:8080/"
        },
        "id": "PydX9X2SlWkt",
        "outputId": "ab9c9b3f-790f-4f54-e41a-dc07610c9a4d"
      },
      "outputs": [
        {
          "name": "stderr",
          "output_type": "stream",
          "text": [
            "/usr/local/lib/python3.8/dist-packages/seaborn/_decorators.py:36: FutureWarning: Pass the following variables as keyword args: x, y. From version 0.12, the only valid positional argument will be `data`, and passing other arguments without an explicit keyword will result in an error or misinterpretation.\n",
            "  warnings.warn(\n"
          ]
        },
        {
          "data": {
            "text/plain": [
              "<matplotlib.axes._subplots.AxesSubplot at 0x7f94afb28400>"
            ]
          },
          "execution_count": 11,
          "metadata": {},
          "output_type": "execute_result"
        },
        {
          "data": {
            "image/png": "[encoded data removed]",
            "text/plain": [
              "<Figure size 432x288 with 1 Axes>"
            ]
          },
          "metadata": {
            "needs_background": "light"
          },
          "output_type": "display_data"
        }
      ],
      "source": [
        "sns.barplot(df[\"fbs\"],y)"
      ]
    },
    {
      "cell_type": "markdown",
      "metadata": {
        "id": "PG76z6m2ogQK"
      },
      "source": [
        "**7.Resting ECG :**The U.S. Preventive Services Task Force determined that there is moderate certainty that the potential risks of screening with resting or exercise ECG outweigh the potential benefits for people at low risk of cardiovascular disease. For people at intermediate to high risk, the evidence is not sufficient to assess the balance of benefits and harms of screening.\n",
        "\n",
        "This attribute contains the results of Resting ECG of every person which range from 0 to 2 where\n",
        "\n",
        "\n",
        "1.   Normal - indicates 0\n",
        "\n",
        "1.   having ST-T wave abnormality - indicates 1\n",
        "2.   left ventricular hyperthrophy - indicates 2\n",
        "\n",
        "\n"
      ]
    },
    {
      "cell_type": "code",
      "execution_count": null,
      "metadata": {
        "colab": {
          "base_uri": "https://localhost:8080/"
        },
        "id": "ubmAv77im81R",
        "outputId": "43310856-ea80-4d6f-9183-c2098a082a24"
      },
      "outputs": [
        {
          "data": {
            "text/plain": [
              "array([0, 1, 2])"
            ]
          },
          "execution_count": 12,
          "metadata": {},
          "output_type": "execute_result"
        }
      ],
      "source": [
        "df[\"restecg\"].unique()\n"
      ]
    },
    {
      "cell_type": "code",
      "execution_count": null,
      "metadata": {
        "colab": {
          "base_uri": "https://localhost:8080/"
        },
        "id": "NatqGcb8m9t6",
        "outputId": "4adf31bd-a174-462c-b19e-314d9504481a"
      },
      "outputs": [
        {
          "name": "stderr",
          "output_type": "stream",
          "text": [
            "/usr/local/lib/python3.8/dist-packages/seaborn/_decorators.py:36: FutureWarning: Pass the following variables as keyword args: x, y. From version 0.12, the only valid positional argument will be `data`, and passing other arguments without an explicit keyword will result in an error or misinterpretation.\n",
            "  warnings.warn(\n"
          ]
        },
        {
          "data": {
            "text/plain": [
              "<matplotlib.axes._subplots.AxesSubplot at 0x7f94afaffb50>"
            ]
          },
          "execution_count": 13,
          "metadata": {},
          "output_type": "execute_result"
        },
        {
          "data": {
            "image/png": "[encoded data removed]",
            "text/plain": [
              "<Figure size 432x288 with 1 Axes>"
            ]
          },
          "metadata": {
            "needs_background": "light"
          },
          "output_type": "display_data"
        }
      ],
      "source": [
        "sns.barplot(df[\"restecg\"],y)\n"
      ]
    },
    {
      "cell_type": "markdown",
      "metadata": {
        "id": "lEDXW-h-omIw"
      },
      "source": [
        "**8.Max heart rate achieved:**An increase in heart rate by 10 beats per minute was associated with a 20% rise in the risk of cardiac death, which is similar to the increase in risk associated with a 10 mmHg rise in systolic blood pressure.\n",
        "This attribute contains the maximum heart rate achieved by every person."
      ]
    },
    {
      "cell_type": "markdown",
      "metadata": {
        "id": "3iX2Kpe3orCT"
      },
      "source": [
        "**9.Exercise induced angina:**Angina is a type of chest pain that is usually experienced as a tight, gripping or squeezing sensation and can range from mild to severe. It typically occurs in the center of the chest, but may also spread to the shoulders, back, neck, jaw or arms and even the hands. There are four main types of angina: stable angina/angina pectoris, unstable angina, variant (Prinzmetal) angina, and microvascular angina.\n",
        "This attribute says whether person has Exercise induced angina or not. It contains 0's and 1's where \n",
        "\n",
        "1.   Having Exercise induced angina - indicates 1\n",
        "2.   No Exercise induced angina - indicates 0\n",
        "\n",
        "\n",
        "\n"
      ]
    },
    {
      "cell_type": "code",
      "execution_count": null,
      "metadata": {
        "colab": {
          "base_uri": "https://localhost:8080/"
        },
        "id": "eaETLTB-pV49",
        "outputId": "a027d34a-97f8-4e8d-ac4f-1ec4fe30af8c"
      },
      "outputs": [
        {
          "data": {
            "text/plain": [
              "array([0, 1])"
            ]
          },
          "execution_count": 14,
          "metadata": {},
          "output_type": "execute_result"
        }
      ],
      "source": [
        "df[\"exang\"].unique()"
      ]
    },
    {
      "cell_type": "code",
      "execution_count": null,
      "metadata": {
        "colab": {
          "base_uri": "https://localhost:8080/"
        },
        "id": "zgTAPzJLpaX0",
        "outputId": "d6d43367-48f0-43a4-9c5d-cbeb86ff02b2"
      },
      "outputs": [
        {
          "name": "stderr",
          "output_type": "stream",
          "text": [
            "/usr/local/lib/python3.8/dist-packages/seaborn/_decorators.py:36: FutureWarning: Pass the following variables as keyword args: x, y. From version 0.12, the only valid positional argument will be `data`, and passing other arguments without an explicit keyword will result in an error or misinterpretation.\n",
            "  warnings.warn(\n"
          ]
        },
        {
          "data": {
            "text/plain": [
              "<matplotlib.axes._subplots.AxesSubplot at 0x7f94afada850>"
            ]
          },
          "execution_count": 15,
          "metadata": {},
          "output_type": "execute_result"
        },
        {
          "data": {
            "image/png": "[encoded data removed]",
            "text/plain": [
              "<Figure size 432x288 with 1 Axes>"
            ]
          },
          "metadata": {
            "needs_background": "light"
          },
          "output_type": "display_data"
        }
      ],
      "source": [
        "sns.barplot(df[\"exang\"],y)"
      ]
    },
    {
      "cell_type": "markdown",
      "metadata": {
        "id": "tMbmgZtgoxgc"
      },
      "source": [
        "**10.ST depression induced by exercise relative to rest:** ST depression induced by exercise refers to a decrease in the ST segment of the ECG (electrocardiogram) compared to the ST segment of the ECG at rest. This decrease is typically seen during exercise stress tests and is a sign of myocardial ischemia, which is a decrease in blood flow to the heart caused by an occlusion in the coronary arteries."
      ]
    },
    {
      "cell_type": "markdown",
      "metadata": {
        "id": "YNalHag9o34l"
      },
      "source": [
        "**11.Peak exercise ST segment:** ak exercise ST segment is a measurement of electrical activity in the heart during exercise. It is measured by an electrocardiogram and is used to detect signs of ischemia, or reduced blood flow to the heart muscle. During exercise, the ST segment may become elevated, flattened, or depressed, which can indicate a decrease in blood flow to the heart.\n",
        "\n",
        "\n",
        "0.   upsloping \n",
        "1.   flat\n",
        "2.   downsloping"
      ]
    },
    {
      "cell_type": "code",
      "execution_count": null,
      "metadata": {
        "colab": {
          "base_uri": "https://localhost:8080/"
        },
        "id": "I_8poSf4phoc",
        "outputId": "7c52094a-e552-4a1f-e379-00060a51431e"
      },
      "outputs": [
        {
          "data": {
            "text/plain": [
              "array([0, 2, 1])"
            ]
          },
          "execution_count": 16,
          "metadata": {},
          "output_type": "execute_result"
        }
      ],
      "source": [
        "df[\"slope\"].unique()"
      ]
    },
    {
      "cell_type": "code",
      "execution_count": null,
      "metadata": {
        "colab": {
          "base_uri": "https://localhost:8080/"
        },
        "id": "-IHR9wFopj4R",
        "outputId": "544b3744-3ef9-4633-ccb2-4442805c6226"
      },
      "outputs": [
        {
          "name": "stderr",
          "output_type": "stream",
          "text": [
            "/usr/local/lib/python3.8/dist-packages/seaborn/_decorators.py:36: FutureWarning: Pass the following variables as keyword args: x, y. From version 0.12, the only valid positional argument will be `data`, and passing other arguments without an explicit keyword will result in an error or misinterpretation.\n",
            "  warnings.warn(\n"
          ]
        },
        {
          "data": {
            "text/plain": [
              "<matplotlib.axes._subplots.AxesSubplot at 0x7f94afb2da30>"
            ]
          },
          "execution_count": 17,
          "metadata": {},
          "output_type": "execute_result"
        },
        {
          "data": {
            "image/png": "[encoded data removed]",
            "text/plain": [
              "<Figure size 432x288 with 1 Axes>"
            ]
          },
          "metadata": {
            "needs_background": "light"
          },
          "output_type": "display_data"
        }
      ],
      "source": [
        "sns.barplot(df[\"slope\"],y)"
      ]
    },
    {
      "cell_type": "markdown",
      "metadata": {
        "id": "Le_p_UIXo8r3"
      },
      "source": [
        "**12.Number of major vessels (0–3) colored by flourosopy:** Fluoroscopy is a type of medical imaging that uses X-rays to obtain real-time moving images of the internal structures of a patient. It is used to diagnose and treat diseases and medical conditions. It is also used to guide and monitor the progress of medical procedures such as catheter placement and biopsies.\n",
        "\n",
        "\n",
        "\n",
        "0.   Normal\n",
        "1.   Mild Abnormality\n",
        "2.   Moderate Abnormality\n",
        "3.   Severe Abnormality\n",
        "\n"
      ]
    },
    {
      "cell_type": "code",
      "execution_count": null,
      "metadata": {
        "colab": {
          "base_uri": "https://localhost:8080/"
        },
        "id": "rdMUUF9CpqfU",
        "outputId": "cc1e4795-cc29-42c8-ea1f-b25571db6280"
      },
      "outputs": [
        {
          "data": {
            "text/plain": [
              "array([0, 2, 1, 3, 4])"
            ]
          },
          "execution_count": 18,
          "metadata": {},
          "output_type": "execute_result"
        }
      ],
      "source": [
        "df[\"ca\"].unique()"
      ]
    },
    {
      "cell_type": "code",
      "execution_count": null,
      "metadata": {
        "colab": {
          "base_uri": "https://localhost:8080/"
        },
        "id": "3OVjUFiFptlQ",
        "outputId": "3bf62022-6ab3-45d8-cb26-4aa79dae5e33"
      },
      "outputs": [
        {
          "name": "stderr",
          "output_type": "stream",
          "text": [
            "/usr/local/lib/python3.8/dist-packages/seaborn/_decorators.py:36: FutureWarning: Pass the following variable as a keyword arg: x. From version 0.12, the only valid positional argument will be `data`, and passing other arguments without an explicit keyword will result in an error or misinterpretation.\n",
            "  warnings.warn(\n"
          ]
        },
        {
          "data": {
            "text/plain": [
              "<matplotlib.axes._subplots.AxesSubplot at 0x7f94af9fb910>"
            ]
          },
          "execution_count": 19,
          "metadata": {},
          "output_type": "execute_result"
        },
        {
          "data": {
            "image/png": "[encoded data removed]",
            "text/plain": [
              "<Figure size 432x288 with 1 Axes>"
            ]
          },
          "metadata": {
            "needs_background": "light"
          },
          "output_type": "display_data"
        }
      ],
      "source": [
        "sns.countplot(df[\"ca\"])"
      ]
    },
    {
      "cell_type": "markdown",
      "metadata": {
        "id": "iTmF3RJ4pCEL"
      },
      "source": [
        "**13.Thal:** Thalassemia is an inherited blood disorder. It affects the body's ability to produce hemoglobin, a protein in red blood cells that carries oxygen to other parts of the body. People with thalassemia make either no hemoglobin or too little hemoglobin, which can lead to anemia (low red blood cell count) and other serious health problems.\n",
        "\n",
        "\n",
        "\n",
        "0.   No Thalassemia\n",
        "1.   Mild Thalassemia\n",
        "2.   Moderate Thalassemia\n",
        "3.   Severe Thalassemia\n",
        "\n"
      ]
    },
    {
      "cell_type": "code",
      "execution_count": null,
      "metadata": {
        "colab": {
          "base_uri": "https://localhost:8080/"
        },
        "id": "705ajw9Ip_wr",
        "outputId": "bc92d9e3-6bf4-429d-b0f0-db22e08b17a5"
      },
      "outputs": [
        {
          "data": {
            "text/plain": [
              "array([1, 2, 3, 0])"
            ]
          },
          "execution_count": 20,
          "metadata": {},
          "output_type": "execute_result"
        }
      ],
      "source": [
        "df[\"thal\"].unique()"
      ]
    },
    {
      "cell_type": "code",
      "execution_count": null,
      "metadata": {
        "colab": {
          "base_uri": "https://localhost:8080/"
        },
        "id": "RePUNVpYqB1k",
        "outputId": "1e6f9d64-317d-48cc-92df-f415bcbf7913"
      },
      "outputs": [
        {
          "name": "stderr",
          "output_type": "stream",
          "text": [
            "/usr/local/lib/python3.8/dist-packages/seaborn/_decorators.py:36: FutureWarning: Pass the following variables as keyword args: x, y. From version 0.12, the only valid positional argument will be `data`, and passing other arguments without an explicit keyword will result in an error or misinterpretation.\n",
            "  warnings.warn(\n"
          ]
        },
        {
          "data": {
            "text/plain": [
              "<matplotlib.axes._subplots.AxesSubplot at 0x7f94af96d730>"
            ]
          },
          "execution_count": 21,
          "metadata": {},
          "output_type": "execute_result"
        },
        {
          "data": {
            "image/png": "[encoded data removed]",
            "text/plain": [
              "<Figure size 432x288 with 1 Axes>"
            ]
          },
          "metadata": {
            "needs_background": "light"
          },
          "output_type": "display_data"
        }
      ],
      "source": [
        "sns.barplot(df[\"thal\"],y)"
      ]
    },
    {
      "cell_type": "markdown",
      "metadata": {
        "id": "lh43sIyH59UL"
      },
      "source": [
        "### Train and Test Split"
      ]
    },
    {
      "cell_type": "code",
      "execution_count": null,
      "metadata": {
        "id": "rREEONoxRUR8"
      },
      "outputs": [],
      "source": [
        "from sklearn.model_selection import train_test_split #import train and test split using sklearn.\n",
        "\n",
        "features = df.drop(\"target\",axis=1) #From data frame, we are droping target attribute and storing data frame in features.\n",
        "label = df[\"target\"] #we are storing target attribute in label.\n",
        "\n",
        "X_train,X_test,Y_train,Y_test = train_test_split(features,label,test_size=0.20,random_state=0)"
      ]
    },
    {
      "cell_type": "code",
      "execution_count": null,
      "metadata": {
        "colab": {
          "base_uri": "https://localhost:8080/"
        },
        "id": "Ws82o9MTRW5H",
        "outputId": "02c9fd07-735b-4387-b2e2-2af787cb95e3"
      },
      "outputs": [
        {
          "data": {
            "text/plain": [
              "(242, 13)"
            ]
          },
          "execution_count": 23,
          "metadata": {},
          "output_type": "execute_result"
        }
      ],
      "source": [
        "X_train.shape"
      ]
    },
    {
      "cell_type": "code",
      "execution_count": null,
      "metadata": {
        "colab": {
          "base_uri": "https://localhost:8080/"
        },
        "id": "CcyVq-crRYl3",
        "outputId": "17d34d6e-0bc6-44a0-fe06-eb99abaebb5c"
      },
      "outputs": [
        {
          "data": {
            "text/plain": [
              "(61, 13)"
            ]
          },
          "execution_count": 24,
          "metadata": {},
          "output_type": "execute_result"
        }
      ],
      "source": [
        "X_test.shape"
      ]
    },
    {
      "cell_type": "code",
      "execution_count": null,
      "metadata": {
        "colab": {
          "base_uri": "https://localhost:8080/"
        },
        "id": "SeHjRylBRaCq",
        "outputId": "91064879-166a-4724-f221-0e5bc467da44"
      },
      "outputs": [
        {
          "data": {
            "text/plain": [
              "(242,)"
            ]
          },
          "execution_count": 25,
          "metadata": {},
          "output_type": "execute_result"
        }
      ],
      "source": [
        "Y_train.shape"
      ]
    },
    {
      "cell_type": "code",
      "execution_count": null,
      "metadata": {
        "colab": {
          "base_uri": "https://localhost:8080/"
        },
        "id": "iMcK9Fh6Rbgu",
        "outputId": "60f217f6-f098-40d9-ab7c-b4e5800283d8"
      },
      "outputs": [
        {
          "data": {
            "text/plain": [
              "(61,)"
            ]
          },
          "execution_count": 26,
          "metadata": {},
          "output_type": "execute_result"
        }
      ],
      "source": [
        "Y_test.shape"
      ]
    },
    {
      "cell_type": "markdown",
      "metadata": {
        "id": "sSRRLXCF0LiS"
      },
      "source": [
        "### Performance measures"
      ]
    },
    {
      "cell_type": "markdown",
      "metadata": {
        "id": "V_pb6wv10T02"
      },
      "source": [
        "**Performance measures:** Performance measures are essential metrics used to evaluate the effectiveness of a machine learning algorithm. Performance measures are used to compare the performance of different models on a given data set and to determine which model provides the best results. Performance measures can be used to identify areas in which the model can be improved and to determine the overall accuracy of the model.\n",
        "\n",
        "There are four machine learning classification model performance measures:\n",
        "\n",
        "\n",
        "1.   Accuracy Score\n",
        "2.   Precision Score\n",
        "\n",
        "1.   Recall Score\n",
        "2.   F1-Score\n",
        "\n",
        "\n",
        "\n"
      ]
    },
    {
      "cell_type": "markdown",
      "metadata": {
        "id": "9bGDPZUmJdyM"
      },
      "source": [
        "**Accuracy Score:**Accuracy Score is one of the most commonly used performance measures in machine learning. It is used to measure how accurately a model can predict the expected output. It is calculated by taking the number of correct predictions divided by the total number of predictions. A higher accuracy score indicates that the model is more accurate in predicting the expected output.\n",
        "\n",
        "Accuracy Score = (TP + TN)/ (TP + FN + TN + FP)"
      ]
    },
    {
      "cell_type": "markdown",
      "metadata": {
        "id": "dYOR6_OKJfAK"
      },
      "source": [
        "**Precision Score:**Precision score is a performance measure used in machine learning to evaluate the accuracy of a model’s predictions. It is a measure of the ratio of true positives (TP) to the sum of true positives and false positives (FP). Precision score is typically expressed as a percentage, with a higher percentage indicating a better model performance.\n",
        "\n",
        "Precision Score = TP / (FP + TP)"
      ]
    },
    {
      "cell_type": "markdown",
      "metadata": {
        "id": "Jstqrr6BJdu9"
      },
      "source": [
        "**Recall Score:**Recall Score is a performance measure used in machine learning that evaluates a model’s ability to correctly identify relevant instances from a dataset. It is calculated by dividing the number of relevant instances correctly identified by the total number of relevant instances in the dataset. The higher the recall score, the better the performance of the model.\n",
        "\n",
        "Recall Score = TP / (FN + TP)"
      ]
    },
    {
      "cell_type": "markdown",
      "metadata": {
        "id": "rzqKgLoGJdrf"
      },
      "source": [
        "**F1-Score:**F1-score is a performance measure in machine learning that combines precision and recall into a single metric. It is often used to evaluate the performance of a classification model, as it takes both false positives and false negatives into account. The F1-score is the harmonic mean of precision and recall, where the best value is 1.0 and the worst value is 0.0. A model which has a high F1-score is considered to be a better model than one with a low F1-score. The F1-score is often used in conjunction with other performance measures such as accuracy, precision and recall.The F1-score is a good measure of a model’s performance when there is an uneven class distribution. This is because it takes both false positives and false negatives into account, and gives more weight to the minority class. The F1-score is also useful when there is a need to weigh precision and recall equally.\n",
        "\n",
        "F1 Score = (2* Precision Score * Recall Score) / (Precision Score + Recall Score)"
      ]
    },
    {
      "cell_type": "markdown",
      "metadata": {
        "id": "VD85WJG86F20"
      },
      "source": [
        "###Machine Learning Models"
      ]
    },
    {
      "cell_type": "markdown",
      "metadata": {
        "id": "rgOtwTfNLKqu"
      },
      "source": [
        "Import all performance measures from sklearn library."
      ]
    },
    {
      "cell_type": "code",
      "execution_count": null,
      "metadata": {
        "id": "qCIJEN952Bse"
      },
      "outputs": [],
      "source": [
        "from sklearn.metrics import accuracy_score\n",
        "from sklearn.metrics import f1_score\n",
        "from sklearn.metrics import recall_score\n",
        "from sklearn.metrics import precision_score"
      ]
    },
    {
      "cell_type": "markdown",
      "metadata": {
        "id": "BVOw4wYC6sTd"
      },
      "source": [
        "**Logistic Regression:**Logistic regression is a type of supervised machine learning algorithm that is used for classification tasks. It is a linear model used to estimate the probability of a binary response variable based on one or more independent variables. Logistic regression is used in a variety of applications, including predicting the risk of a medical condition based on symptoms, determining whether an email is spam, and predicting the likelihood that a customer will respond to a marketing campaign. It is also used in natural language processing to classify text documents."
      ]
    },
    {
      "cell_type": "code",
      "execution_count": null,
      "metadata": {
        "colab": {
          "base_uri": "https://localhost:8080/"
        },
        "id": "bh0S5b_gReUb",
        "outputId": "3094b9ee-ee46-4840-8299-ac20057c529c"
      },
      "outputs": [
        {
          "name": "stderr",
          "output_type": "stream",
          "text": [
            "/usr/local/lib/python3.8/dist-packages/sklearn/linear_model/_logistic.py:814: ConvergenceWarning: lbfgs failed to converge (status=1):\n",
            "STOP: TOTAL NO. of ITERATIONS REACHED LIMIT.\n",
            "\n",
            "Increase the number of iterations (max_iter) or scale the data as shown in:\n",
            "    https://scikit-learn.org/stable/modules/preprocessing.html\n",
            "Please also refer to the documentation for alternative solver options:\n",
            "    https://scikit-learn.org/stable/modules/linear_model.html#logistic-regression\n",
            "  n_iter_i = _check_optimize_result(\n"
          ]
        }
      ],
      "source": [
        "from sklearn.linear_model import LogisticRegression\n",
        "\n",
        "lr = LogisticRegression()\n",
        "\n",
        "lr.fit(X_train,Y_train)\n",
        "\n",
        "Y_pred_lr = lr.predict(X_test)"
      ]
    },
    {
      "cell_type": "code",
      "execution_count": null,
      "metadata": {
        "colab": {
          "base_uri": "https://localhost:8080/"
        },
        "id": "EjVMMlFeRfrj",
        "outputId": "af9b2fa4-0838-4975-c655-65629bbb8185"
      },
      "outputs": [
        {
          "data": {
            "text/plain": [
              "(61,)"
            ]
          },
          "execution_count": 29,
          "metadata": {},
          "output_type": "execute_result"
        }
      ],
      "source": [
        "Y_pred_lr.shape"
      ]
    },
    {
      "cell_type": "code",
      "execution_count": null,
      "metadata": {
        "colab": {
          "base_uri": "https://localhost:8080/"
        },
        "id": "gqPwBlObRhmv",
        "outputId": "5ead2659-c078-424d-acba-abf63496dbfa"
      },
      "outputs": [
        {
          "name": "stdout",
          "output_type": "stream",
          "text": [
            "The Accuracy Score achieved using Logistic Regression is: 85.25 %\n"
          ]
        }
      ],
      "source": [
        "acc_score_lr = round(accuracy_score(Y_pred_lr,Y_test)*100,2)\n",
        "\n",
        "print(\"The Accuracy Score achieved using Logistic Regression is: \"+str(acc_score_lr)+\" %\")"
      ]
    },
    {
      "cell_type": "code",
      "execution_count": null,
      "metadata": {
        "colab": {
          "base_uri": "https://localhost:8080/"
        },
        "id": "wO0UBAHd_Zvh",
        "outputId": "0599051c-b9e7-4efc-8287-07104e0eaf11"
      },
      "outputs": [
        {
          "name": "stdout",
          "output_type": "stream",
          "text": [
            "The Precision Score achieved using Logistic Regression is: 88.24 %\n"
          ]
        }
      ],
      "source": [
        "pre_score_lr = round(precision_score(Y_pred_lr,Y_test)*100,2)\n",
        "\n",
        "print(\"The Precision Score achieved using Logistic Regression is: \"+str(pre_score_lr)+\" %\")"
      ]
    },
    {
      "cell_type": "code",
      "execution_count": null,
      "metadata": {
        "colab": {
          "base_uri": "https://localhost:8080/"
        },
        "id": "DVUTrdd62Yeo",
        "outputId": "ce27244a-1e1c-43cc-c7b6-a7bf00e9a07a"
      },
      "outputs": [
        {
          "name": "stdout",
          "output_type": "stream",
          "text": [
            "The Recall Score achieved using Logistic Regression is: 85.71 %\n"
          ]
        }
      ],
      "source": [
        "rec_score_lr = round(recall_score(Y_pred_lr,Y_test)*100,2)\n",
        "\n",
        "print(\"The Recall Score achieved using Logistic Regression is: \"+str(rec_score_lr)+\" %\")"
      ]
    },
    {
      "cell_type": "code",
      "execution_count": null,
      "metadata": {
        "colab": {
          "base_uri": "https://localhost:8080/"
        },
        "id": "0YXSHpVB_Zoe",
        "outputId": "368146dc-9583-418b-cb7d-25cd0bbaf78a"
      },
      "outputs": [
        {
          "name": "stdout",
          "output_type": "stream",
          "text": [
            "The F1-Score achieved using Logistic Regression is: 86.96 %\n"
          ]
        }
      ],
      "source": [
        "f1_score_lr = round(f1_score(Y_pred_lr,Y_test)*100,2)\n",
        "\n",
        "print(\"The F1-Score achieved using Logistic Regression is: \"+str(f1_score_lr)+\" %\")"
      ]
    },
    {
      "cell_type": "markdown",
      "metadata": {
        "id": "qLsZLxW77Mza"
      },
      "source": [
        "**Naive Bayes:**Naive Bayes is a supervised machine learning algorithm used for classification problems. It is based on the Bayes theorem, which states that the probability of an event is equal to the probability of the event happening times the probability of the event not happening divided by the probability of the event not happening. "
      ]
    },
    {
      "cell_type": "code",
      "execution_count": null,
      "metadata": {
        "id": "mrgrF5DURjS1"
      },
      "outputs": [],
      "source": [
        "from sklearn.naive_bayes import GaussianNB\n",
        "\n",
        "nb = GaussianNB()\n",
        "\n",
        "nb.fit(X_train,Y_train)\n",
        "\n",
        "Y_pred_nb = nb.predict(X_test)"
      ]
    },
    {
      "cell_type": "code",
      "execution_count": null,
      "metadata": {
        "colab": {
          "base_uri": "https://localhost:8080/"
        },
        "id": "K6GOusVCRltv",
        "outputId": "3922b591-17e6-4f4f-c268-3e59a45db8f1"
      },
      "outputs": [
        {
          "data": {
            "text/plain": [
              "(61,)"
            ]
          },
          "execution_count": 35,
          "metadata": {},
          "output_type": "execute_result"
        }
      ],
      "source": [
        "Y_pred_nb.shape"
      ]
    },
    {
      "cell_type": "code",
      "execution_count": null,
      "metadata": {
        "colab": {
          "base_uri": "https://localhost:8080/"
        },
        "id": "gXIERNsdRneM",
        "outputId": "cbbf426b-e16a-40d8-ecd4-3bd480e8e1ff"
      },
      "outputs": [
        {
          "name": "stdout",
          "output_type": "stream",
          "text": [
            "The Accuracy Score achieved using Naive Bayes is: 85.25 %\n"
          ]
        }
      ],
      "source": [
        "acc_score_nb = round(accuracy_score(Y_pred_nb,Y_test)*100,2)\n",
        "\n",
        "print(\"The Accuracy Score achieved using Naive Bayes is: \"+str(acc_score_nb)+\" %\")"
      ]
    },
    {
      "cell_type": "code",
      "execution_count": null,
      "metadata": {
        "colab": {
          "base_uri": "https://localhost:8080/"
        },
        "id": "s248N1ny3JbK",
        "outputId": "6a820452-d7ce-4bc2-d1a7-b04f6af290d0"
      },
      "outputs": [
        {
          "name": "stdout",
          "output_type": "stream",
          "text": [
            "The Precision Score achieved using Naive Bayes is: 91.18 %\n"
          ]
        }
      ],
      "source": [
        "pre_score_nb = round(precision_score(Y_pred_nb,Y_test)*100,2)\n",
        "\n",
        "print(\"The Precision Score achieved using Naive Bayes is: \"+str(pre_score_nb)+\" %\")"
      ]
    },
    {
      "cell_type": "code",
      "execution_count": null,
      "metadata": {
        "colab": {
          "base_uri": "https://localhost:8080/"
        },
        "id": "sLvnwAgx3JXz",
        "outputId": "1329947e-37c0-41ea-921f-52cdd6ba4d94"
      },
      "outputs": [
        {
          "name": "stdout",
          "output_type": "stream",
          "text": [
            "The Recall Score achieved using Naive Bayes is: 83.78 %\n"
          ]
        }
      ],
      "source": [
        "rec_score_nb = round(recall_score(Y_pred_nb,Y_test)*100,2)\n",
        "\n",
        "print(\"The Recall Score achieved using Naive Bayes is: \"+str(rec_score_nb)+\" %\")"
      ]
    },
    {
      "cell_type": "code",
      "execution_count": null,
      "metadata": {
        "colab": {
          "base_uri": "https://localhost:8080/"
        },
        "id": "2aux36sc3JK1",
        "outputId": "d4fb4ec4-66b3-42b3-817d-0736f1d8980f"
      },
      "outputs": [
        {
          "name": "stdout",
          "output_type": "stream",
          "text": [
            "The F1-Score achieved using Naive Bayes is: 87.32 %\n"
          ]
        }
      ],
      "source": [
        "f1_score_nb = round(f1_score(Y_pred_nb,Y_test)*100,2)\n",
        "\n",
        "print(\"The F1-Score achieved using Naive Bayes is: \"+str(f1_score_nb)+\" %\")"
      ]
    },
    {
      "cell_type": "markdown",
      "metadata": {
        "id": "je4CaMCJ7Tl5"
      },
      "source": [
        "**SVM:**Support Vector Machines (SVMs) are a type of supervised machine learning algorithm used for classification and regression problems. SVMs use a technique called the kernel trick to transform the data into a higher-dimensional space, which allows the algorithm to find a hyperplane that maximizes the distance between the data points of different classes."
      ]
    },
    {
      "cell_type": "code",
      "execution_count": null,
      "metadata": {
        "id": "OGO0VzbVRpMW"
      },
      "outputs": [],
      "source": [
        "from sklearn import svm\n",
        "\n",
        "sv = svm.SVC(kernel='linear')\n",
        "\n",
        "sv.fit(X_train, Y_train)\n",
        "\n",
        "Y_pred_svm = sv.predict(X_test)"
      ]
    },
    {
      "cell_type": "code",
      "execution_count": null,
      "metadata": {
        "colab": {
          "base_uri": "https://localhost:8080/"
        },
        "id": "Xaqg9IhiRsdc",
        "outputId": "c332d780-394f-402a-9572-dfde8a1a5da2"
      },
      "outputs": [
        {
          "data": {
            "text/plain": [
              "(61,)"
            ]
          },
          "execution_count": 41,
          "metadata": {},
          "output_type": "execute_result"
        }
      ],
      "source": [
        "Y_pred_svm.shape"
      ]
    },
    {
      "cell_type": "code",
      "execution_count": null,
      "metadata": {
        "colab": {
          "base_uri": "https://localhost:8080/"
        },
        "id": "ANo5Z-tlRuAN",
        "outputId": "2b3e69f4-0850-4d4b-c415-a0e481486ef6"
      },
      "outputs": [
        {
          "name": "stdout",
          "output_type": "stream",
          "text": [
            "The Accuracy Score achieved using Linear SVM is: 81.97 %\n"
          ]
        }
      ],
      "source": [
        "acc_score_svm = round(accuracy_score(Y_pred_svm,Y_test)*100,2)\n",
        "\n",
        "print(\"The Accuracy Score achieved using Linear SVM is: \"+str(acc_score_svm)+\" %\")"
      ]
    },
    {
      "cell_type": "code",
      "execution_count": null,
      "metadata": {
        "colab": {
          "base_uri": "https://localhost:8080/"
        },
        "id": "erIszKpw5dUx",
        "outputId": "8af42ca1-ac94-4881-fa69-85708e0ddeb5"
      },
      "outputs": [
        {
          "name": "stdout",
          "output_type": "stream",
          "text": [
            "The Precison Score achieved using Linear SVM is: 88.24 %\n"
          ]
        }
      ],
      "source": [
        "pre_score_svm = round(precision_score(Y_pred_svm,Y_test)*100,2)\n",
        "\n",
        "print(\"The Precison Score achieved using Linear SVM is: \"+str(pre_score_svm)+\" %\")"
      ]
    },
    {
      "cell_type": "code",
      "execution_count": null,
      "metadata": {
        "colab": {
          "base_uri": "https://localhost:8080/"
        },
        "id": "TB-IcY0V5dQj",
        "outputId": "2b9dbe06-7dc7-450b-edef-2e7b9643d638"
      },
      "outputs": [
        {
          "name": "stdout",
          "output_type": "stream",
          "text": [
            "The Recall Score achieved using Linear SVM is: 81.08 %\n"
          ]
        }
      ],
      "source": [
        "rec_score_svm = round(recall_score(Y_pred_svm,Y_test)*100,2)\n",
        "\n",
        "print(\"The Recall Score achieved using Linear SVM is: \"+str(rec_score_svm)+\" %\")"
      ]
    },
    {
      "cell_type": "code",
      "execution_count": null,
      "metadata": {
        "colab": {
          "base_uri": "https://localhost:8080/"
        },
        "id": "Xz-bzwlP5dIg",
        "outputId": "e2a7a104-c92a-4b19-e1b0-b95525252703"
      },
      "outputs": [
        {
          "name": "stdout",
          "output_type": "stream",
          "text": [
            "The F1-Score achieved using Linear SVM is: 84.51 %\n"
          ]
        }
      ],
      "source": [
        "f1_score_svm = round(f1_score(Y_pred_svm,Y_test)*100,2)\n",
        "\n",
        "print(\"The F1-Score achieved using Linear SVM is: \"+str(f1_score_svm)+\" %\")"
      ]
    },
    {
      "cell_type": "markdown",
      "metadata": {
        "id": "ATIrbcVS7VfL"
      },
      "source": [
        "**K Nearest Neighbours:**K Nearest Neighbor (KNN) is a supervised machine learning algorithm used for both classification and regression. It is a non-parametric and lazy learning algorithm, which means it does not assume any underlying data distribution and it delays its computations until the time of prediction."
      ]
    },
    {
      "cell_type": "code",
      "execution_count": null,
      "metadata": {
        "id": "cueWq2SmRvny"
      },
      "outputs": [],
      "source": [
        "from sklearn.neighbors import KNeighborsClassifier\n",
        "\n",
        "knn = KNeighborsClassifier(n_neighbors=7)\n",
        "knn.fit(X_train,Y_train)\n",
        "Y_pred_knn=knn.predict(X_test)"
      ]
    },
    {
      "cell_type": "code",
      "execution_count": null,
      "metadata": {
        "colab": {
          "base_uri": "https://localhost:8080/"
        },
        "id": "vJ-mLmJYRw-0",
        "outputId": "a334f169-6fa2-4fa6-e47e-dc469dacbb5b"
      },
      "outputs": [
        {
          "data": {
            "text/plain": [
              "(61,)"
            ]
          },
          "execution_count": 47,
          "metadata": {},
          "output_type": "execute_result"
        }
      ],
      "source": [
        "Y_pred_knn.shape"
      ]
    },
    {
      "cell_type": "code",
      "execution_count": null,
      "metadata": {
        "colab": {
          "base_uri": "https://localhost:8080/"
        },
        "id": "Tz3fYKzTRyYZ",
        "outputId": "cf3c1700-af86-40c0-94e4-87f605274235"
      },
      "outputs": [
        {
          "name": "stdout",
          "output_type": "stream",
          "text": [
            "The Accuracy Score achieved using KNN is: 67.21 %\n"
          ]
        }
      ],
      "source": [
        "acc_score_knn = round(accuracy_score(Y_pred_knn,Y_test)*100,2)\n",
        "\n",
        "print(\"The Accuracy Score achieved using KNN is: \"+str(acc_score_knn)+\" %\")"
      ]
    },
    {
      "cell_type": "code",
      "execution_count": null,
      "metadata": {
        "colab": {
          "base_uri": "https://localhost:8080/"
        },
        "id": "t1qm6-Qy3qun",
        "outputId": "47fadc1b-cb6e-4305-eba4-8c1149f52a57"
      },
      "outputs": [
        {
          "name": "stdout",
          "output_type": "stream",
          "text": [
            "The Precision Score achieved using KNN is: 67.65 %\n"
          ]
        }
      ],
      "source": [
        "pre_score_knn = round(precision_score(Y_pred_knn,Y_test)*100,2)\n",
        "\n",
        "print(\"The Precision Score achieved using KNN is: \"+str(pre_score_knn)+\" %\")"
      ]
    },
    {
      "cell_type": "code",
      "execution_count": null,
      "metadata": {
        "colab": {
          "base_uri": "https://localhost:8080/"
        },
        "id": "Nkl078__3qqD",
        "outputId": "e040d890-59fc-42b0-8c67-59bf29e764e7"
      },
      "outputs": [
        {
          "name": "stdout",
          "output_type": "stream",
          "text": [
            "The Recall Score achieved using KNN is: 71.88 %\n"
          ]
        }
      ],
      "source": [
        "rec_score_knn = round(recall_score(Y_pred_knn,Y_test)*100,2)\n",
        "\n",
        "print(\"The Recall Score achieved using KNN is: \"+str(rec_score_knn)+\" %\")"
      ]
    },
    {
      "cell_type": "code",
      "execution_count": null,
      "metadata": {
        "colab": {
          "base_uri": "https://localhost:8080/"
        },
        "id": "r5B6payy3qi_",
        "outputId": "342d89e7-6e32-4adf-c119-3743a2ede2cb"
      },
      "outputs": [
        {
          "name": "stdout",
          "output_type": "stream",
          "text": [
            "The F1-Score achieved using KNN is: 69.7 %\n"
          ]
        }
      ],
      "source": [
        "f1_score_knn = round(f1_score(Y_pred_knn,Y_test)*100,2)\n",
        "\n",
        "print(\"The F1-Score achieved using KNN is: \"+str(f1_score_knn)+\" %\")"
      ]
    },
    {
      "cell_type": "markdown",
      "metadata": {
        "id": "QFEYhq437ak-"
      },
      "source": [
        "**Decision Tree:**Decision Trees are a supervised machine learning tool used for both classification and regression tasks. It is a type of algorithm that uses a tree-like structure to make decisions by breaking down a dataset into smaller and smaller subsets while at the same time an associated decision tree is incrementally developed. The final result is a tree with decision nodes and leaf nodes. The decision nodes have a certain condition or attribute associated with them, and the leaf nodes represent class labels or class distributions."
      ]
    },
    {
      "cell_type": "code",
      "execution_count": null,
      "metadata": {
        "id": "V-exXYnbR0Dn"
      },
      "outputs": [],
      "source": [
        "from sklearn.tree import DecisionTreeClassifier\n",
        "\n",
        "max_accuracy = 0\n",
        "\n",
        "\n",
        "for x in range(200):\n",
        "    dt = DecisionTreeClassifier(random_state=x)\n",
        "    dt.fit(X_train,Y_train)\n",
        "    Y_pred_dt = dt.predict(X_test)\n",
        "    current_accuracy = round(accuracy_score(Y_pred_dt,Y_test)*100,2)\n",
        "    if(current_accuracy>max_accuracy):\n",
        "        max_accuracy = current_accuracy\n",
        "        best_x = x\n",
        "        \n",
        "#print(max_accuracy)\n",
        "#print(best_x)\n",
        "\n",
        "\n",
        "dt = DecisionTreeClassifier(random_state=best_x)\n",
        "dt.fit(X_train,Y_train)\n",
        "Y_pred_dt = dt.predict(X_test)"
      ]
    },
    {
      "cell_type": "code",
      "execution_count": null,
      "metadata": {
        "colab": {
          "base_uri": "https://localhost:8080/"
        },
        "id": "F0AdviRcSFPK",
        "outputId": "0686ed89-11fc-472a-e67b-5549063346a3"
      },
      "outputs": [
        {
          "name": "stdout",
          "output_type": "stream",
          "text": [
            "(61,)\n"
          ]
        }
      ],
      "source": [
        "print(Y_pred_dt.shape)"
      ]
    },
    {
      "cell_type": "code",
      "execution_count": null,
      "metadata": {
        "colab": {
          "base_uri": "https://localhost:8080/"
        },
        "id": "GaUsMbSRSJBx",
        "outputId": "565a72d1-89d5-4e4e-d627-64aabe5ea0fa"
      },
      "outputs": [
        {
          "name": "stdout",
          "output_type": "stream",
          "text": [
            "The Accuracy Score achieved using Decision Tree is: 81.97 %\n"
          ]
        }
      ],
      "source": [
        "acc_score_dt = round(accuracy_score(Y_pred_dt,Y_test)*100,2)\n",
        "\n",
        "print(\"The Accuracy Score achieved using Decision Tree is: \"+str(acc_score_dt)+\" %\")"
      ]
    },
    {
      "cell_type": "code",
      "execution_count": null,
      "metadata": {
        "colab": {
          "base_uri": "https://localhost:8080/"
        },
        "id": "NW14ctzq4Rig",
        "outputId": "e0f8cd5b-e022-41f6-ae42-2109b43f873a"
      },
      "outputs": [
        {
          "name": "stdout",
          "output_type": "stream",
          "text": [
            "The Precision Score achieved using Decision Tree is: 82.35 %\n"
          ]
        }
      ],
      "source": [
        "pre_score_dt = round(precision_score(Y_pred_dt,Y_test)*100,2)\n",
        "\n",
        "print(\"The Precision Score achieved using Decision Tree is: \"+str(pre_score_dt)+\" %\")"
      ]
    },
    {
      "cell_type": "code",
      "execution_count": null,
      "metadata": {
        "colab": {
          "base_uri": "https://localhost:8080/"
        },
        "id": "EO8P2pMd4RaU",
        "outputId": "7453735b-5e93-429d-b8a0-2e3a69675dc5"
      },
      "outputs": [
        {
          "name": "stdout",
          "output_type": "stream",
          "text": [
            "The Recall Score achieved using Decision Tree is: 84.85 %\n"
          ]
        }
      ],
      "source": [
        "rec_score_dt = round(recall_score(Y_pred_dt,Y_test)*100,2)\n",
        "\n",
        "print(\"The Recall Score achieved using Decision Tree is: \"+str(rec_score_dt)+\" %\")"
      ]
    },
    {
      "cell_type": "code",
      "execution_count": null,
      "metadata": {
        "colab": {
          "base_uri": "https://localhost:8080/"
        },
        "id": "A-RrsH3b4RUo",
        "outputId": "2cff3afa-f80a-4240-f5fc-f480cbc7e755"
      },
      "outputs": [
        {
          "name": "stdout",
          "output_type": "stream",
          "text": [
            "The F1-Score achieved using Decision Tree is: 83.58 %\n"
          ]
        }
      ],
      "source": [
        "f1_score_dt = round(f1_score(Y_pred_dt,Y_test)*100,2)\n",
        "\n",
        "print(\"The F1-Score achieved using Decision Tree is: \"+str(f1_score_dt)+\" %\")"
      ]
    },
    {
      "cell_type": "markdown",
      "metadata": {
        "id": "ywS8_jW67eeK"
      },
      "source": [
        "**Random Forest:**Random Forest is an effective and powerful machine learning algorithm that can be used for both classification and regression tasks. It is robust to overfitting, has high accuracy, and is easy to use and implement. Furthermore, it can handle large datasets and perform well even with missing data. This makes it a popular choice for many real-world applications."
      ]
    },
    {
      "cell_type": "code",
      "execution_count": null,
      "metadata": {
        "id": "lAz3x-qYSM8I"
      },
      "outputs": [],
      "source": [
        "from sklearn.ensemble import RandomForestClassifier\n",
        "\n",
        "max_accuracy = 0\n",
        "\n",
        "\n",
        "for x in range(2000):\n",
        "    rf = RandomForestClassifier(random_state=x)\n",
        "    rf.fit(X_train,Y_train)\n",
        "    Y_pred_rf = rf.predict(X_test)\n",
        "    current_accuracy = round(accuracy_score(Y_pred_rf,Y_test)*100,2)\n",
        "    if(current_accuracy>max_accuracy):\n",
        "        max_accuracy = current_accuracy\n",
        "        best_x = x\n",
        "        \n",
        "#print(max_accuracy)\n",
        "#print(best_x)\n",
        "\n",
        "rf = RandomForestClassifier(random_state=best_x)\n",
        "rf.fit(X_train,Y_train)\n",
        "Y_pred_rf = rf.predict(X_test)"
      ]
    },
    {
      "cell_type": "code",
      "execution_count": null,
      "metadata": {
        "colab": {
          "base_uri": "https://localhost:8080/"
        },
        "id": "ljkVpK6iSPD_",
        "outputId": "e4342e9e-3ae1-4608-add6-1afe5139e83c"
      },
      "outputs": [
        {
          "data": {
            "text/plain": [
              "(61,)"
            ]
          },
          "execution_count": 59,
          "metadata": {},
          "output_type": "execute_result"
        }
      ],
      "source": [
        "Y_pred_rf.shape"
      ]
    },
    {
      "cell_type": "code",
      "execution_count": null,
      "metadata": {
        "colab": {
          "base_uri": "https://localhost:8080/"
        },
        "id": "xrloYSS8STRT",
        "outputId": "99528614-52d4-4597-b690-a08bc9c55af3"
      },
      "outputs": [
        {
          "name": "stdout",
          "output_type": "stream",
          "text": [
            "The Accuracy Score achieved using Decision Tree is: 90.16 %\n"
          ]
        }
      ],
      "source": [
        "acc_score_rf = round(accuracy_score(Y_pred_rf,Y_test)*100,2)\n",
        "\n",
        "print(\"The Accuracy Score achieved using Decision Tree is: \"+str(acc_score_rf)+\" %\")"
      ]
    },
    {
      "cell_type": "code",
      "execution_count": null,
      "metadata": {
        "colab": {
          "base_uri": "https://localhost:8080/"
        },
        "id": "osPJ3nQW4nob",
        "outputId": "d678058e-f028-4b81-934f-0d616278baef"
      },
      "outputs": [
        {
          "name": "stdout",
          "output_type": "stream",
          "text": [
            "The Precision score achieved using Decision Tree is: 94.12 %\n"
          ]
        }
      ],
      "source": [
        "pre_score_rf = round(precision_score(Y_pred_rf,Y_test)*100,2)\n",
        "\n",
        "print(\"The Precision score achieved using Decision Tree is: \"+str(pre_score_rf)+\" %\")"
      ]
    },
    {
      "cell_type": "code",
      "execution_count": null,
      "metadata": {
        "colab": {
          "base_uri": "https://localhost:8080/"
        },
        "id": "QQxm46F84nlk",
        "outputId": "790a0c5c-6dc6-4ab9-bcc1-ad73fcc0f938"
      },
      "outputs": [
        {
          "name": "stdout",
          "output_type": "stream",
          "text": [
            "The Recall score achieved using Decision Tree is: 88.89 %\n"
          ]
        }
      ],
      "source": [
        "rec_score_rf = round(recall_score(Y_pred_rf,Y_test)*100,2)\n",
        "\n",
        "print(\"The Recall score achieved using Decision Tree is: \"+str(rec_score_rf)+\" %\")"
      ]
    },
    {
      "cell_type": "code",
      "execution_count": null,
      "metadata": {
        "colab": {
          "base_uri": "https://localhost:8080/"
        },
        "id": "5k4JV_rj4ng2",
        "outputId": "7725bd30-3d63-453f-c36a-319fdbe3bcfb"
      },
      "outputs": [
        {
          "name": "stdout",
          "output_type": "stream",
          "text": [
            "The F1-Score achieved using Decision Tree is: 91.43 %\n"
          ]
        }
      ],
      "source": [
        "f1_score_rf = round(f1_score(Y_pred_rf,Y_test)*100,2)\n",
        "\n",
        "print(\"The F1-Score achieved using Decision Tree is: \"+str(f1_score_rf)+\" %\")"
      ]
    },
    {
      "cell_type": "markdown",
      "metadata": {
        "id": "h0-1pGSL7h5R"
      },
      "source": [
        "**XGBoost:**XGBoost (Extreme Gradient Boosting) is another popular supervised machine learning algorithm used for both classification and regression tasks. It is an ensemble learning technique that combines the power of both gradient boosting and random forest algorithms. XGBoost uses gradient descent to fit a model to the data, and then uses multiple decision trees to improve the model's accuracy."
      ]
    },
    {
      "cell_type": "code",
      "execution_count": null,
      "metadata": {
        "id": "5TcEXzeKTo62"
      },
      "outputs": [],
      "source": [
        "import xgboost as xgb\n",
        "\n",
        "xgb_model = xgb.XGBClassifier(objective=\"binary:logistic\", random_state=42)\n",
        "xgb_model.fit(X_train, Y_train)\n",
        "\n",
        "Y_pred_xgb = xgb_model.predict(X_test)"
      ]
    },
    {
      "cell_type": "code",
      "execution_count": null,
      "metadata": {
        "colab": {
          "base_uri": "https://localhost:8080/"
        },
        "id": "4mDeRcUaTrxb",
        "outputId": "15028612-2159-49c0-dd05-d6b35b21cb19"
      },
      "outputs": [
        {
          "data": {
            "text/plain": [
              "(61,)"
            ]
          },
          "execution_count": 65,
          "metadata": {},
          "output_type": "execute_result"
        }
      ],
      "source": [
        "Y_pred_xgb.shape"
      ]
    },
    {
      "cell_type": "code",
      "execution_count": null,
      "metadata": {
        "colab": {
          "base_uri": "https://localhost:8080/"
        },
        "id": "uZmpwThVTtDl",
        "outputId": "1bb8208c-fa3b-49a1-d04f-5a1d4e125b5a"
      },
      "outputs": [
        {
          "name": "stdout",
          "output_type": "stream",
          "text": [
            "The Accuracy Score achieved using XGBoost is: 85.25 %\n"
          ]
        }
      ],
      "source": [
        "acc_score_xgb = round(accuracy_score(Y_pred_xgb,Y_test)*100,2)\n",
        "\n",
        "print(\"The Accuracy Score achieved using XGBoost is: \"+str(acc_score_xgb)+\" %\")"
      ]
    },
    {
      "cell_type": "code",
      "execution_count": null,
      "metadata": {
        "colab": {
          "base_uri": "https://localhost:8080/"
        },
        "id": "OkdJM0yv49ug",
        "outputId": "0c4c3334-c245-4ce1-f394-e62c6ffdedd9"
      },
      "outputs": [
        {
          "name": "stdout",
          "output_type": "stream",
          "text": [
            "The Precision Score achieved using XGBoost is: 88.24 %\n"
          ]
        }
      ],
      "source": [
        "pre_score_xgb = round(precision_score(Y_pred_xgb,Y_test)*100,2)\n",
        "\n",
        "print(\"The Precision Score achieved using XGBoost is: \"+str(pre_score_xgb)+\" %\")"
      ]
    },
    {
      "cell_type": "code",
      "execution_count": null,
      "metadata": {
        "colab": {
          "base_uri": "https://localhost:8080/"
        },
        "id": "wm8cqIAf49rh",
        "outputId": "687c4d93-ccde-445c-da5a-4d98fa49473d"
      },
      "outputs": [
        {
          "name": "stdout",
          "output_type": "stream",
          "text": [
            "The Recall Score achieved using XGBoost is: 85.71 %\n"
          ]
        }
      ],
      "source": [
        "rec_score_xgb = round(recall_score(Y_pred_xgb,Y_test)*100,2)\n",
        "\n",
        "print(\"The Recall Score achieved using XGBoost is: \"+str(rec_score_xgb)+\" %\")"
      ]
    },
    {
      "cell_type": "code",
      "execution_count": null,
      "metadata": {
        "colab": {
          "base_uri": "https://localhost:8080/"
        },
        "id": "2Hj2SdXw49nc",
        "outputId": "0e211b4c-510d-4daa-dc27-e16d1d645d11"
      },
      "outputs": [
        {
          "name": "stdout",
          "output_type": "stream",
          "text": [
            "The F1-Score achieved using XGBoost is: 86.96 %\n"
          ]
        }
      ],
      "source": [
        "f1_score_xgb = round(f1_score(Y_pred_xgb,Y_test)*100,2)\n",
        "\n",
        "print(\"The F1-Score achieved using XGBoost is: \"+str(f1_score_xgb)+\" %\")"
      ]
    },
    {
      "cell_type": "markdown",
      "metadata": {
        "id": "MIzXwOAo7miN"
      },
      "source": [
        "### Deep Learning"
      ]
    },
    {
      "cell_type": "markdown",
      "metadata": {
        "id": "cEwDi7HT7q4m"
      },
      "source": [
        "Neural Network"
      ]
    },
    {
      "cell_type": "code",
      "execution_count": null,
      "metadata": {
        "id": "0W27EEB_TvRE"
      },
      "outputs": [],
      "source": [
        "from keras.models import Sequential\n",
        "from keras.layers import Dense"
      ]
    },
    {
      "cell_type": "code",
      "execution_count": null,
      "metadata": {
        "id": "2uzPz34nTzQW"
      },
      "outputs": [],
      "source": [
        "model = Sequential()\n",
        "model.add(Dense(11,activation='relu',input_dim=13))\n",
        "model.add(Dense(1,activation='sigmoid'))\n",
        "\n",
        "model.compile(loss='binary_crossentropy',optimizer='adam',metrics=['accuracy'])"
      ]
    },
    {
      "cell_type": "code",
      "execution_count": null,
      "metadata": {
        "colab": {
          "base_uri": "https://localhost:8080/"
        },
        "id": "LficV4XvT3IP",
        "outputId": "e6326a6b-4868-4ae6-c8f7-1081db4dbd6e"
      },
      "outputs": [
        {
          "name": "stdout",
          "output_type": "stream",
          "text": [
            "Epoch 1/300\n",
            "8/8 [==============================] - 1s 4ms/step - loss: 5.7096 - accuracy: 0.4504\n",
            "Epoch 2/300\n",
            "8/8 [==============================] - 0s 3ms/step - loss: 3.8989 - accuracy: 0.4380\n",
            "Epoch 3/300\n",
            "8/8 [==============================] - 0s 3ms/step - loss: 2.5203 - accuracy: 0.3843\n",
            "Epoch 4/300\n",
            "8/8 [==============================] - 0s 3ms/step - loss: 2.0169 - accuracy: 0.4587\n",
            "Epoch 5/300\n",
            "8/8 [==============================] - 0s 3ms/step - loss: 1.9830 - accuracy: 0.5124\n",
            "Epoch 6/300\n",
            "8/8 [==============================] - 0s 3ms/step - loss: 1.9770 - accuracy: 0.5248\n",
            "Epoch 7/300\n",
            "8/8 [==============================] - 0s 3ms/step - loss: 1.9045 - accuracy: 0.4835\n",
            "Epoch 8/300\n",
            "8/8 [==============================] - 0s 4ms/step - loss: 1.8565 - accuracy: 0.4628\n",
            "Epoch 9/300\n",
            "8/8 [==============================] - 0s 4ms/step - loss: 1.8395 - accuracy: 0.4545\n",
            "Epoch 10/300\n",
            "8/8 [==============================] - 0s 4ms/step - loss: 1.8108 - accuracy: 0.4587\n",
            "Epoch 11/300\n",
            "8/8 [==============================] - 0s 4ms/step - loss: 1.7861 - accuracy: 0.4711\n",
            "Epoch 12/300\n",
            "8/8 [==============================] - 0s 4ms/step - loss: 1.7593 - accuracy: 0.4711\n",
            "Epoch 13/300\n",
            "8/8 [==============================] - 0s 4ms/step - loss: 1.7255 - accuracy: 0.4835\n",
            "Epoch 14/300\n",
            "8/8 [==============================] - 0s 4ms/step - loss: 1.6971 - accuracy: 0.4711\n",
            "Epoch 15/300\n",
            "8/8 [==============================] - 0s 4ms/step - loss: 1.6840 - accuracy: 0.4752\n",
            "Epoch 16/300\n",
            "8/8 [==============================] - 0s 4ms/step - loss: 1.6461 - accuracy: 0.4917\n",
            "Epoch 17/300\n",
            "8/8 [==============================] - 0s 4ms/step - loss: 1.6174 - accuracy: 0.4876\n",
            "Epoch 18/300\n",
            "8/8 [==============================] - 0s 4ms/step - loss: 1.5901 - accuracy: 0.4959\n",
            "Epoch 19/300\n",
            "8/8 [==============================] - 0s 4ms/step - loss: 1.5651 - accuracy: 0.4959\n",
            "Epoch 20/300\n",
            "8/8 [==============================] - 0s 3ms/step - loss: 1.5379 - accuracy: 0.4917\n",
            "Epoch 21/300\n",
            "8/8 [==============================] - 0s 3ms/step - loss: 1.5086 - accuracy: 0.4876\n",
            "Epoch 22/300\n",
            "8/8 [==============================] - 0s 3ms/step - loss: 1.4850 - accuracy: 0.4917\n",
            "Epoch 23/300\n",
            "8/8 [==============================] - 0s 4ms/step - loss: 1.4559 - accuracy: 0.4917\n",
            "Epoch 24/300\n",
            "8/8 [==============================] - 0s 4ms/step - loss: 1.4275 - accuracy: 0.4876\n",
            "Epoch 25/300\n",
            "8/8 [==============================] - 0s 4ms/step - loss: 1.4020 - accuracy: 0.4917\n",
            "Epoch 26/300\n",
            "8/8 [==============================] - 0s 4ms/step - loss: 1.3763 - accuracy: 0.4959\n",
            "Epoch 27/300\n",
            "8/8 [==============================] - 0s 3ms/step - loss: 1.3503 - accuracy: 0.4876\n",
            "Epoch 28/300\n",
            "8/8 [==============================] - 0s 3ms/step - loss: 1.3281 - accuracy: 0.4917\n",
            "Epoch 29/300\n",
            "8/8 [==============================] - 0s 4ms/step - loss: 1.3081 - accuracy: 0.5083\n",
            "Epoch 30/300\n",
            "8/8 [==============================] - 0s 4ms/step - loss: 1.2798 - accuracy: 0.5124\n",
            "Epoch 31/300\n",
            "8/8 [==============================] - 0s 4ms/step - loss: 1.2597 - accuracy: 0.5124\n",
            "Epoch 32/300\n",
            "8/8 [==============================] - 0s 3ms/step - loss: 1.2385 - accuracy: 0.5041\n",
            "Epoch 33/300\n",
            "8/8 [==============================] - 0s 3ms/step - loss: 1.2128 - accuracy: 0.5000\n",
            "Epoch 34/300\n",
            "8/8 [==============================] - 0s 3ms/step - loss: 1.1956 - accuracy: 0.5083\n",
            "Epoch 35/300\n",
            "8/8 [==============================] - 0s 3ms/step - loss: 1.1730 - accuracy: 0.5165\n",
            "Epoch 36/300\n",
            "8/8 [==============================] - 0s 3ms/step - loss: 1.1511 - accuracy: 0.4917\n",
            "Epoch 37/300\n",
            "8/8 [==============================] - 0s 3ms/step - loss: 1.1355 - accuracy: 0.4959\n",
            "Epoch 38/300\n",
            "8/8 [==============================] - 0s 3ms/step - loss: 1.1143 - accuracy: 0.4959\n",
            "Epoch 39/300\n",
            "8/8 [==============================] - 0s 4ms/step - loss: 1.0983 - accuracy: 0.5124\n",
            "Epoch 40/300\n",
            "8/8 [==============================] - 0s 3ms/step - loss: 1.0802 - accuracy: 0.5000\n",
            "Epoch 41/300\n",
            "8/8 [==============================] - 0s 3ms/step - loss: 1.0596 - accuracy: 0.5083\n",
            "Epoch 42/300\n",
            "8/8 [==============================] - 0s 3ms/step - loss: 1.0448 - accuracy: 0.5124\n",
            "Epoch 43/300\n",
            "8/8 [==============================] - 0s 3ms/step - loss: 1.0256 - accuracy: 0.5124\n",
            "Epoch 44/300\n",
            "8/8 [==============================] - 0s 3ms/step - loss: 1.0147 - accuracy: 0.5207\n",
            "Epoch 45/300\n",
            "8/8 [==============================] - 0s 3ms/step - loss: 0.9945 - accuracy: 0.5165\n",
            "Epoch 46/300\n",
            "8/8 [==============================] - 0s 4ms/step - loss: 0.9827 - accuracy: 0.5248\n",
            "Epoch 47/300\n",
            "8/8 [==============================] - 0s 4ms/step - loss: 0.9629 - accuracy: 0.5289\n",
            "Epoch 48/300\n",
            "8/8 [==============================] - 0s 4ms/step - loss: 0.9490 - accuracy: 0.5331\n",
            "Epoch 49/300\n",
            "8/8 [==============================] - 0s 4ms/step - loss: 0.9343 - accuracy: 0.5496\n",
            "Epoch 50/300\n",
            "8/8 [==============================] - 0s 3ms/step - loss: 0.9228 - accuracy: 0.5455\n",
            "Epoch 51/300\n",
            "8/8 [==============================] - 0s 3ms/step - loss: 0.9093 - accuracy: 0.5537\n",
            "Epoch 52/300\n",
            "8/8 [==============================] - 0s 3ms/step - loss: 0.8966 - accuracy: 0.5455\n",
            "Epoch 53/300\n",
            "8/8 [==============================] - 0s 4ms/step - loss: 0.8891 - accuracy: 0.5496\n",
            "Epoch 54/300\n",
            "8/8 [==============================] - 0s 4ms/step - loss: 0.8735 - accuracy: 0.5579\n",
            "Epoch 55/300\n",
            "8/8 [==============================] - 0s 3ms/step - loss: 0.8622 - accuracy: 0.5496\n",
            "Epoch 56/300\n",
            "8/8 [==============================] - 0s 4ms/step - loss: 0.8510 - accuracy: 0.5620\n",
            "Epoch 57/300\n",
            "8/8 [==============================] - 0s 4ms/step - loss: 0.8425 - accuracy: 0.5661\n",
            "Epoch 58/300\n",
            "8/8 [==============================] - 0s 3ms/step - loss: 0.8314 - accuracy: 0.5537\n",
            "Epoch 59/300\n",
            "8/8 [==============================] - 0s 3ms/step - loss: 0.8251 - accuracy: 0.5620\n",
            "Epoch 60/300\n",
            "8/8 [==============================] - 0s 3ms/step - loss: 0.8131 - accuracy: 0.5785\n",
            "Epoch 61/300\n",
            "8/8 [==============================] - 0s 3ms/step - loss: 0.8056 - accuracy: 0.5620\n",
            "Epoch 62/300\n",
            "8/8 [==============================] - 0s 3ms/step - loss: 0.7949 - accuracy: 0.5702\n",
            "Epoch 63/300\n",
            "8/8 [==============================] - 0s 4ms/step - loss: 0.7888 - accuracy: 0.5744\n",
            "Epoch 64/300\n",
            "8/8 [==============================] - 0s 4ms/step - loss: 0.7794 - accuracy: 0.5702\n",
            "Epoch 65/300\n",
            "8/8 [==============================] - 0s 4ms/step - loss: 0.7723 - accuracy: 0.5826\n",
            "Epoch 66/300\n",
            "8/8 [==============================] - 0s 4ms/step - loss: 0.7637 - accuracy: 0.5909\n",
            "Epoch 67/300\n",
            "8/8 [==============================] - 0s 3ms/step - loss: 0.7569 - accuracy: 0.5950\n",
            "Epoch 68/300\n",
            "8/8 [==============================] - 0s 3ms/step - loss: 0.7520 - accuracy: 0.6157\n",
            "Epoch 69/300\n",
            "8/8 [==============================] - 0s 4ms/step - loss: 0.7472 - accuracy: 0.5950\n",
            "Epoch 70/300\n",
            "8/8 [==============================] - 0s 4ms/step - loss: 0.7401 - accuracy: 0.5909\n",
            "Epoch 71/300\n",
            "8/8 [==============================] - 0s 4ms/step - loss: 0.7310 - accuracy: 0.6116\n",
            "Epoch 72/300\n",
            "8/8 [==============================] - 0s 3ms/step - loss: 0.7246 - accuracy: 0.6281\n",
            "Epoch 73/300\n",
            "8/8 [==============================] - 0s 4ms/step - loss: 0.7198 - accuracy: 0.6240\n",
            "Epoch 74/300\n",
            "8/8 [==============================] - 0s 4ms/step - loss: 0.7125 - accuracy: 0.6281\n",
            "Epoch 75/300\n",
            "8/8 [==============================] - 0s 5ms/step - loss: 0.7083 - accuracy: 0.6240\n",
            "Epoch 76/300\n",
            "8/8 [==============================] - 0s 4ms/step - loss: 0.7067 - accuracy: 0.6364\n",
            "Epoch 77/300\n",
            "8/8 [==============================] - 0s 4ms/step - loss: 0.6975 - accuracy: 0.6240\n",
            "Epoch 78/300\n",
            "8/8 [==============================] - 0s 4ms/step - loss: 0.6928 - accuracy: 0.6322\n",
            "Epoch 79/300\n",
            "8/8 [==============================] - 0s 3ms/step - loss: 0.6943 - accuracy: 0.6364\n",
            "Epoch 80/300\n",
            "8/8 [==============================] - 0s 3ms/step - loss: 0.6797 - accuracy: 0.6364\n",
            "Epoch 81/300\n",
            "8/8 [==============================] - 0s 4ms/step - loss: 0.6864 - accuracy: 0.6364\n",
            "Epoch 82/300\n",
            "8/8 [==============================] - 0s 4ms/step - loss: 0.6750 - accuracy: 0.6488\n",
            "Epoch 83/300\n",
            "8/8 [==============================] - 0s 4ms/step - loss: 0.6718 - accuracy: 0.6405\n",
            "Epoch 84/300\n",
            "8/8 [==============================] - 0s 4ms/step - loss: 0.6655 - accuracy: 0.6488\n",
            "Epoch 85/300\n",
            "8/8 [==============================] - 0s 3ms/step - loss: 0.6629 - accuracy: 0.6529\n",
            "Epoch 86/300\n",
            "8/8 [==============================] - 0s 3ms/step - loss: 0.6573 - accuracy: 0.6570\n",
            "Epoch 87/300\n",
            "8/8 [==============================] - 0s 3ms/step - loss: 0.6560 - accuracy: 0.6570\n",
            "Epoch 88/300\n",
            "8/8 [==============================] - 0s 3ms/step - loss: 0.6497 - accuracy: 0.6446\n",
            "Epoch 89/300\n",
            "8/8 [==============================] - 0s 3ms/step - loss: 0.6479 - accuracy: 0.6653\n",
            "Epoch 90/300\n",
            "8/8 [==============================] - 0s 3ms/step - loss: 0.6440 - accuracy: 0.6529\n",
            "Epoch 91/300\n",
            "8/8 [==============================] - 0s 4ms/step - loss: 0.6389 - accuracy: 0.6529\n",
            "Epoch 92/300\n",
            "8/8 [==============================] - 0s 5ms/step - loss: 0.6359 - accuracy: 0.6570\n",
            "Epoch 93/300\n",
            "8/8 [==============================] - 0s 3ms/step - loss: 0.6328 - accuracy: 0.6612\n",
            "Epoch 94/300\n",
            "8/8 [==============================] - 0s 3ms/step - loss: 0.6376 - accuracy: 0.6529\n",
            "Epoch 95/300\n",
            "8/8 [==============================] - 0s 3ms/step - loss: 0.6306 - accuracy: 0.6818\n",
            "Epoch 96/300\n",
            "8/8 [==============================] - 0s 3ms/step - loss: 0.6277 - accuracy: 0.6653\n",
            "Epoch 97/300\n",
            "8/8 [==============================] - 0s 3ms/step - loss: 0.6178 - accuracy: 0.6694\n",
            "Epoch 98/300\n",
            "8/8 [==============================] - 0s 3ms/step - loss: 0.6221 - accuracy: 0.6777\n",
            "Epoch 99/300\n",
            "8/8 [==============================] - 0s 3ms/step - loss: 0.6128 - accuracy: 0.6736\n",
            "Epoch 100/300\n",
            "8/8 [==============================] - 0s 3ms/step - loss: 0.6122 - accuracy: 0.6736\n",
            "Epoch 101/300\n",
            "8/8 [==============================] - 0s 3ms/step - loss: 0.6116 - accuracy: 0.6694\n",
            "Epoch 102/300\n",
            "8/8 [==============================] - 0s 3ms/step - loss: 0.6057 - accuracy: 0.6777\n",
            "Epoch 103/300\n",
            "8/8 [==============================] - 0s 3ms/step - loss: 0.6022 - accuracy: 0.6818\n",
            "Epoch 104/300\n",
            "8/8 [==============================] - 0s 3ms/step - loss: 0.6016 - accuracy: 0.6860\n",
            "Epoch 105/300\n",
            "8/8 [==============================] - 0s 3ms/step - loss: 0.5969 - accuracy: 0.6901\n",
            "Epoch 106/300\n",
            "8/8 [==============================] - 0s 3ms/step - loss: 0.5954 - accuracy: 0.6818\n",
            "Epoch 107/300\n",
            "8/8 [==============================] - 0s 3ms/step - loss: 0.5924 - accuracy: 0.6860\n",
            "Epoch 108/300\n",
            "8/8 [==============================] - 0s 3ms/step - loss: 0.5899 - accuracy: 0.6983\n",
            "Epoch 109/300\n",
            "8/8 [==============================] - 0s 3ms/step - loss: 0.5879 - accuracy: 0.7066\n",
            "Epoch 110/300\n",
            "8/8 [==============================] - 0s 3ms/step - loss: 0.5875 - accuracy: 0.6860\n",
            "Epoch 111/300\n",
            "8/8 [==============================] - 0s 4ms/step - loss: 0.5845 - accuracy: 0.7025\n",
            "Epoch 112/300\n",
            "8/8 [==============================] - 0s 3ms/step - loss: 0.5812 - accuracy: 0.6983\n",
            "Epoch 113/300\n",
            "8/8 [==============================] - 0s 3ms/step - loss: 0.5786 - accuracy: 0.6942\n",
            "Epoch 114/300\n",
            "8/8 [==============================] - 0s 3ms/step - loss: 0.5783 - accuracy: 0.7066\n",
            "Epoch 115/300\n",
            "8/8 [==============================] - 0s 3ms/step - loss: 0.5767 - accuracy: 0.6983\n",
            "Epoch 116/300\n",
            "8/8 [==============================] - 0s 3ms/step - loss: 0.5733 - accuracy: 0.7190\n",
            "Epoch 117/300\n",
            "8/8 [==============================] - 0s 3ms/step - loss: 0.5711 - accuracy: 0.6983\n",
            "Epoch 118/300\n",
            "8/8 [==============================] - 0s 3ms/step - loss: 0.5720 - accuracy: 0.7149\n",
            "Epoch 119/300\n",
            "8/8 [==============================] - 0s 3ms/step - loss: 0.5668 - accuracy: 0.7107\n",
            "Epoch 120/300\n",
            "8/8 [==============================] - 0s 3ms/step - loss: 0.5675 - accuracy: 0.7066\n",
            "Epoch 121/300\n",
            "8/8 [==============================] - 0s 4ms/step - loss: 0.5617 - accuracy: 0.7149\n",
            "Epoch 122/300\n",
            "8/8 [==============================] - 0s 4ms/step - loss: 0.5610 - accuracy: 0.7107\n",
            "Epoch 123/300\n",
            "8/8 [==============================] - 0s 5ms/step - loss: 0.5606 - accuracy: 0.7066\n",
            "Epoch 124/300\n",
            "8/8 [==============================] - 0s 3ms/step - loss: 0.5582 - accuracy: 0.7314\n",
            "Epoch 125/300\n",
            "8/8 [==============================] - 0s 5ms/step - loss: 0.5564 - accuracy: 0.7231\n",
            "Epoch 126/300\n",
            "8/8 [==============================] - 0s 3ms/step - loss: 0.5545 - accuracy: 0.7107\n",
            "Epoch 127/300\n",
            "8/8 [==============================] - 0s 3ms/step - loss: 0.5523 - accuracy: 0.7231\n",
            "Epoch 128/300\n",
            "8/8 [==============================] - 0s 4ms/step - loss: 0.5514 - accuracy: 0.7149\n",
            "Epoch 129/300\n",
            "8/8 [==============================] - 0s 4ms/step - loss: 0.5485 - accuracy: 0.7314\n",
            "Epoch 130/300\n",
            "8/8 [==============================] - 0s 3ms/step - loss: 0.5472 - accuracy: 0.7438\n",
            "Epoch 131/300\n",
            "8/8 [==============================] - 0s 4ms/step - loss: 0.5494 - accuracy: 0.7273\n",
            "Epoch 132/300\n",
            "8/8 [==============================] - 0s 5ms/step - loss: 0.5421 - accuracy: 0.7273\n",
            "Epoch 133/300\n",
            "8/8 [==============================] - 0s 4ms/step - loss: 0.5453 - accuracy: 0.7231\n",
            "Epoch 134/300\n",
            "8/8 [==============================] - 0s 4ms/step - loss: 0.5412 - accuracy: 0.7355\n",
            "Epoch 135/300\n",
            "8/8 [==============================] - 0s 4ms/step - loss: 0.5413 - accuracy: 0.7397\n",
            "Epoch 136/300\n",
            "8/8 [==============================] - 0s 4ms/step - loss: 0.5358 - accuracy: 0.7397\n",
            "Epoch 137/300\n",
            "8/8 [==============================] - 0s 4ms/step - loss: 0.5367 - accuracy: 0.7397\n",
            "Epoch 138/300\n",
            "8/8 [==============================] - 0s 4ms/step - loss: 0.5332 - accuracy: 0.7479\n",
            "Epoch 139/300\n",
            "8/8 [==============================] - 0s 4ms/step - loss: 0.5341 - accuracy: 0.7397\n",
            "Epoch 140/300\n",
            "8/8 [==============================] - 0s 5ms/step - loss: 0.5310 - accuracy: 0.7479\n",
            "Epoch 141/300\n",
            "8/8 [==============================] - 0s 4ms/step - loss: 0.5320 - accuracy: 0.7397\n",
            "Epoch 142/300\n",
            "8/8 [==============================] - 0s 5ms/step - loss: 0.5263 - accuracy: 0.7397\n",
            "Epoch 143/300\n",
            "8/8 [==============================] - 0s 3ms/step - loss: 0.5294 - accuracy: 0.7314\n",
            "Epoch 144/300\n",
            "8/8 [==============================] - 0s 5ms/step - loss: 0.5271 - accuracy: 0.7355\n",
            "Epoch 145/300\n",
            "8/8 [==============================] - 0s 4ms/step - loss: 0.5256 - accuracy: 0.7438\n",
            "Epoch 146/300\n",
            "8/8 [==============================] - 0s 3ms/step - loss: 0.5245 - accuracy: 0.7397\n",
            "Epoch 147/300\n",
            "8/8 [==============================] - 0s 4ms/step - loss: 0.5222 - accuracy: 0.7438\n",
            "Epoch 148/300\n",
            "8/8 [==============================] - 0s 4ms/step - loss: 0.5282 - accuracy: 0.7273\n",
            "Epoch 149/300\n",
            "8/8 [==============================] - 0s 4ms/step - loss: 0.5201 - accuracy: 0.7562\n",
            "Epoch 150/300\n",
            "8/8 [==============================] - 0s 4ms/step - loss: 0.5178 - accuracy: 0.7562\n",
            "Epoch 151/300\n",
            "8/8 [==============================] - 0s 3ms/step - loss: 0.5163 - accuracy: 0.7397\n",
            "Epoch 152/300\n",
            "8/8 [==============================] - 0s 3ms/step - loss: 0.5153 - accuracy: 0.7479\n",
            "Epoch 153/300\n",
            "8/8 [==============================] - 0s 4ms/step - loss: 0.5132 - accuracy: 0.7521\n",
            "Epoch 154/300\n",
            "8/8 [==============================] - 0s 4ms/step - loss: 0.5110 - accuracy: 0.7521\n",
            "Epoch 155/300\n",
            "8/8 [==============================] - 0s 4ms/step - loss: 0.5107 - accuracy: 0.7438\n",
            "Epoch 156/300\n",
            "8/8 [==============================] - 0s 4ms/step - loss: 0.5082 - accuracy: 0.7562\n",
            "Epoch 157/300\n",
            "8/8 [==============================] - 0s 4ms/step - loss: 0.5099 - accuracy: 0.7438\n",
            "Epoch 158/300\n",
            "8/8 [==============================] - 0s 4ms/step - loss: 0.5116 - accuracy: 0.7438\n",
            "Epoch 159/300\n",
            "8/8 [==============================] - 0s 4ms/step - loss: 0.5066 - accuracy: 0.7603\n",
            "Epoch 160/300\n",
            "8/8 [==============================] - 0s 4ms/step - loss: 0.5118 - accuracy: 0.7438\n",
            "Epoch 161/300\n",
            "8/8 [==============================] - 0s 4ms/step - loss: 0.5011 - accuracy: 0.7686\n",
            "Epoch 162/300\n",
            "8/8 [==============================] - 0s 4ms/step - loss: 0.5049 - accuracy: 0.7686\n",
            "Epoch 163/300\n",
            "8/8 [==============================] - 0s 4ms/step - loss: 0.4999 - accuracy: 0.7769\n",
            "Epoch 164/300\n",
            "8/8 [==============================] - 0s 3ms/step - loss: 0.5008 - accuracy: 0.7562\n",
            "Epoch 165/300\n",
            "8/8 [==============================] - 0s 5ms/step - loss: 0.4977 - accuracy: 0.7686\n",
            "Epoch 166/300\n",
            "8/8 [==============================] - 0s 4ms/step - loss: 0.4997 - accuracy: 0.7769\n",
            "Epoch 167/300\n",
            "8/8 [==============================] - 0s 3ms/step - loss: 0.4976 - accuracy: 0.7727\n",
            "Epoch 168/300\n",
            "8/8 [==============================] - 0s 4ms/step - loss: 0.4955 - accuracy: 0.7603\n",
            "Epoch 169/300\n",
            "8/8 [==============================] - 0s 3ms/step - loss: 0.4980 - accuracy: 0.7727\n",
            "Epoch 170/300\n",
            "8/8 [==============================] - 0s 5ms/step - loss: 0.4920 - accuracy: 0.7727\n",
            "Epoch 171/300\n",
            "8/8 [==============================] - 0s 5ms/step - loss: 0.4936 - accuracy: 0.7645\n",
            "Epoch 172/300\n",
            "8/8 [==============================] - 0s 3ms/step - loss: 0.4943 - accuracy: 0.7727\n",
            "Epoch 173/300\n",
            "8/8 [==============================] - 0s 4ms/step - loss: 0.4901 - accuracy: 0.7810\n",
            "Epoch 174/300\n",
            "8/8 [==============================] - 0s 5ms/step - loss: 0.4881 - accuracy: 0.7810\n",
            "Epoch 175/300\n",
            "8/8 [==============================] - 0s 6ms/step - loss: 0.4868 - accuracy: 0.7727\n",
            "Epoch 176/300\n",
            "8/8 [==============================] - 0s 4ms/step - loss: 0.4871 - accuracy: 0.7769\n",
            "Epoch 177/300\n",
            "8/8 [==============================] - 0s 4ms/step - loss: 0.4856 - accuracy: 0.7727\n",
            "Epoch 178/300\n",
            "8/8 [==============================] - 0s 4ms/step - loss: 0.4862 - accuracy: 0.7851\n",
            "Epoch 179/300\n",
            "8/8 [==============================] - 0s 4ms/step - loss: 0.4834 - accuracy: 0.7769\n",
            "Epoch 180/300\n",
            "8/8 [==============================] - 0s 4ms/step - loss: 0.4828 - accuracy: 0.7727\n",
            "Epoch 181/300\n",
            "8/8 [==============================] - 0s 4ms/step - loss: 0.4838 - accuracy: 0.7934\n",
            "Epoch 182/300\n",
            "8/8 [==============================] - 0s 4ms/step - loss: 0.4802 - accuracy: 0.7893\n",
            "Epoch 183/300\n",
            "8/8 [==============================] - 0s 4ms/step - loss: 0.4789 - accuracy: 0.7810\n",
            "Epoch 184/300\n",
            "8/8 [==============================] - 0s 4ms/step - loss: 0.4881 - accuracy: 0.7521\n",
            "Epoch 185/300\n",
            "8/8 [==============================] - 0s 4ms/step - loss: 0.4749 - accuracy: 0.7934\n",
            "Epoch 186/300\n",
            "8/8 [==============================] - 0s 4ms/step - loss: 0.4829 - accuracy: 0.7727\n",
            "Epoch 187/300\n",
            "8/8 [==============================] - 0s 4ms/step - loss: 0.4769 - accuracy: 0.7769\n",
            "Epoch 188/300\n",
            "8/8 [==============================] - 0s 4ms/step - loss: 0.4763 - accuracy: 0.8099\n",
            "Epoch 189/300\n",
            "8/8 [==============================] - 0s 3ms/step - loss: 0.4732 - accuracy: 0.7769\n",
            "Epoch 190/300\n",
            "8/8 [==============================] - 0s 4ms/step - loss: 0.4736 - accuracy: 0.7851\n",
            "Epoch 191/300\n",
            "8/8 [==============================] - 0s 5ms/step - loss: 0.4713 - accuracy: 0.7769\n",
            "Epoch 192/300\n",
            "8/8 [==============================] - 0s 4ms/step - loss: 0.4754 - accuracy: 0.7975\n",
            "Epoch 193/300\n",
            "8/8 [==============================] - 0s 3ms/step - loss: 0.4720 - accuracy: 0.7893\n",
            "Epoch 194/300\n",
            "8/8 [==============================] - 0s 3ms/step - loss: 0.4688 - accuracy: 0.7810\n",
            "Epoch 195/300\n",
            "8/8 [==============================] - 0s 3ms/step - loss: 0.4699 - accuracy: 0.7934\n",
            "Epoch 196/300\n",
            "8/8 [==============================] - 0s 3ms/step - loss: 0.4664 - accuracy: 0.7893\n",
            "Epoch 197/300\n",
            "8/8 [==============================] - 0s 3ms/step - loss: 0.4683 - accuracy: 0.8017\n",
            "Epoch 198/300\n",
            "8/8 [==============================] - 0s 3ms/step - loss: 0.4668 - accuracy: 0.7810\n",
            "Epoch 199/300\n",
            "8/8 [==============================] - 0s 3ms/step - loss: 0.4641 - accuracy: 0.7893\n",
            "Epoch 200/300\n",
            "8/8 [==============================] - 0s 3ms/step - loss: 0.4628 - accuracy: 0.8058\n",
            "Epoch 201/300\n",
            "8/8 [==============================] - 0s 3ms/step - loss: 0.4618 - accuracy: 0.7934\n",
            "Epoch 202/300\n",
            "8/8 [==============================] - 0s 3ms/step - loss: 0.4612 - accuracy: 0.7893\n",
            "Epoch 203/300\n",
            "8/8 [==============================] - 0s 3ms/step - loss: 0.4601 - accuracy: 0.8017\n",
            "Epoch 204/300\n",
            "8/8 [==============================] - 0s 3ms/step - loss: 0.4602 - accuracy: 0.8099\n",
            "Epoch 205/300\n",
            "8/8 [==============================] - 0s 3ms/step - loss: 0.4567 - accuracy: 0.7934\n",
            "Epoch 206/300\n",
            "8/8 [==============================] - 0s 4ms/step - loss: 0.4580 - accuracy: 0.7934\n",
            "Epoch 207/300\n",
            "8/8 [==============================] - 0s 4ms/step - loss: 0.4577 - accuracy: 0.7975\n",
            "Epoch 208/300\n",
            "8/8 [==============================] - 0s 4ms/step - loss: 0.4558 - accuracy: 0.8017\n",
            "Epoch 209/300\n",
            "8/8 [==============================] - 0s 4ms/step - loss: 0.4572 - accuracy: 0.8017\n",
            "Epoch 210/300\n",
            "8/8 [==============================] - 0s 4ms/step - loss: 0.4555 - accuracy: 0.8099\n",
            "Epoch 211/300\n",
            "8/8 [==============================] - 0s 4ms/step - loss: 0.4536 - accuracy: 0.8099\n",
            "Epoch 212/300\n",
            "8/8 [==============================] - 0s 5ms/step - loss: 0.4517 - accuracy: 0.8058\n",
            "Epoch 213/300\n",
            "8/8 [==============================] - 0s 5ms/step - loss: 0.4532 - accuracy: 0.7975\n",
            "Epoch 214/300\n",
            "8/8 [==============================] - 0s 4ms/step - loss: 0.4525 - accuracy: 0.8017\n",
            "Epoch 215/300\n",
            "8/8 [==============================] - 0s 4ms/step - loss: 0.4521 - accuracy: 0.7851\n",
            "Epoch 216/300\n",
            "8/8 [==============================] - 0s 3ms/step - loss: 0.4522 - accuracy: 0.8058\n",
            "Epoch 217/300\n",
            "8/8 [==============================] - 0s 4ms/step - loss: 0.4550 - accuracy: 0.7934\n",
            "Epoch 218/300\n",
            "8/8 [==============================] - 0s 3ms/step - loss: 0.4464 - accuracy: 0.7975\n",
            "Epoch 219/300\n",
            "8/8 [==============================] - 0s 4ms/step - loss: 0.4489 - accuracy: 0.8058\n",
            "Epoch 220/300\n",
            "8/8 [==============================] - 0s 3ms/step - loss: 0.4464 - accuracy: 0.8140\n",
            "Epoch 221/300\n",
            "8/8 [==============================] - 0s 4ms/step - loss: 0.4442 - accuracy: 0.8099\n",
            "Epoch 222/300\n",
            "8/8 [==============================] - 0s 4ms/step - loss: 0.4459 - accuracy: 0.8017\n",
            "Epoch 223/300\n",
            "8/8 [==============================] - 0s 3ms/step - loss: 0.4435 - accuracy: 0.8140\n",
            "Epoch 224/300\n",
            "8/8 [==============================] - 0s 4ms/step - loss: 0.4440 - accuracy: 0.8099\n",
            "Epoch 225/300\n",
            "8/8 [==============================] - 0s 4ms/step - loss: 0.4402 - accuracy: 0.8140\n",
            "Epoch 226/300\n",
            "8/8 [==============================] - 0s 4ms/step - loss: 0.4466 - accuracy: 0.7975\n",
            "Epoch 227/300\n",
            "8/8 [==============================] - 0s 4ms/step - loss: 0.4429 - accuracy: 0.8058\n",
            "Epoch 228/300\n",
            "8/8 [==============================] - 0s 4ms/step - loss: 0.4389 - accuracy: 0.8140\n",
            "Epoch 229/300\n",
            "8/8 [==============================] - 0s 4ms/step - loss: 0.4410 - accuracy: 0.7934\n",
            "Epoch 230/300\n",
            "8/8 [==============================] - 0s 4ms/step - loss: 0.4377 - accuracy: 0.8140\n",
            "Epoch 231/300\n",
            "8/8 [==============================] - 0s 3ms/step - loss: 0.4388 - accuracy: 0.8058\n",
            "Epoch 232/300\n",
            "8/8 [==============================] - 0s 3ms/step - loss: 0.4374 - accuracy: 0.8099\n",
            "Epoch 233/300\n",
            "8/8 [==============================] - 0s 3ms/step - loss: 0.4354 - accuracy: 0.8140\n",
            "Epoch 234/300\n",
            "8/8 [==============================] - 0s 3ms/step - loss: 0.4358 - accuracy: 0.8140\n",
            "Epoch 235/300\n",
            "8/8 [==============================] - 0s 4ms/step - loss: 0.4353 - accuracy: 0.8099\n",
            "Epoch 236/300\n",
            "8/8 [==============================] - 0s 3ms/step - loss: 0.4333 - accuracy: 0.8140\n",
            "Epoch 237/300\n",
            "8/8 [==============================] - 0s 3ms/step - loss: 0.4390 - accuracy: 0.8058\n",
            "Epoch 238/300\n",
            "8/8 [==============================] - 0s 3ms/step - loss: 0.4364 - accuracy: 0.8140\n",
            "Epoch 239/300\n",
            "8/8 [==============================] - 0s 4ms/step - loss: 0.4347 - accuracy: 0.8058\n",
            "Epoch 240/300\n",
            "8/8 [==============================] - 0s 3ms/step - loss: 0.4303 - accuracy: 0.8140\n",
            "Epoch 241/300\n",
            "8/8 [==============================] - 0s 3ms/step - loss: 0.4308 - accuracy: 0.8140\n",
            "Epoch 242/300\n",
            "8/8 [==============================] - 0s 5ms/step - loss: 0.4305 - accuracy: 0.8099\n",
            "Epoch 243/300\n",
            "8/8 [==============================] - 0s 3ms/step - loss: 0.4345 - accuracy: 0.7975\n",
            "Epoch 244/300\n",
            "8/8 [==============================] - 0s 3ms/step - loss: 0.4379 - accuracy: 0.8017\n",
            "Epoch 245/300\n",
            "8/8 [==============================] - 0s 4ms/step - loss: 0.4279 - accuracy: 0.8223\n",
            "Epoch 246/300\n",
            "8/8 [==============================] - 0s 4ms/step - loss: 0.4276 - accuracy: 0.8182\n",
            "Epoch 247/300\n",
            "8/8 [==============================] - 0s 3ms/step - loss: 0.4264 - accuracy: 0.8264\n",
            "Epoch 248/300\n",
            "8/8 [==============================] - 0s 4ms/step - loss: 0.4259 - accuracy: 0.8182\n",
            "Epoch 249/300\n",
            "8/8 [==============================] - 0s 3ms/step - loss: 0.4247 - accuracy: 0.8140\n",
            "Epoch 250/300\n",
            "8/8 [==============================] - 0s 3ms/step - loss: 0.4267 - accuracy: 0.8140\n",
            "Epoch 251/300\n",
            "8/8 [==============================] - 0s 3ms/step - loss: 0.4266 - accuracy: 0.8306\n",
            "Epoch 252/300\n",
            "8/8 [==============================] - 0s 3ms/step - loss: 0.4217 - accuracy: 0.8223\n",
            "Epoch 253/300\n",
            "8/8 [==============================] - 0s 3ms/step - loss: 0.4221 - accuracy: 0.8223\n",
            "Epoch 254/300\n",
            "8/8 [==============================] - 0s 3ms/step - loss: 0.4212 - accuracy: 0.8182\n",
            "Epoch 255/300\n",
            "8/8 [==============================] - 0s 3ms/step - loss: 0.4213 - accuracy: 0.8182\n",
            "Epoch 256/300\n",
            "8/8 [==============================] - 0s 3ms/step - loss: 0.4220 - accuracy: 0.8140\n",
            "Epoch 257/300\n",
            "8/8 [==============================] - 0s 3ms/step - loss: 0.4240 - accuracy: 0.8347\n",
            "Epoch 258/300\n",
            "8/8 [==============================] - 0s 3ms/step - loss: 0.4189 - accuracy: 0.8264\n",
            "Epoch 259/300\n",
            "8/8 [==============================] - 0s 3ms/step - loss: 0.4204 - accuracy: 0.8264\n",
            "Epoch 260/300\n",
            "8/8 [==============================] - 0s 3ms/step - loss: 0.4205 - accuracy: 0.8306\n",
            "Epoch 261/300\n",
            "8/8 [==============================] - 0s 3ms/step - loss: 0.4188 - accuracy: 0.8182\n",
            "Epoch 262/300\n",
            "8/8 [==============================] - 0s 3ms/step - loss: 0.4168 - accuracy: 0.8223\n",
            "Epoch 263/300\n",
            "8/8 [==============================] - 0s 3ms/step - loss: 0.4183 - accuracy: 0.8264\n",
            "Epoch 264/300\n",
            "8/8 [==============================] - 0s 3ms/step - loss: 0.4186 - accuracy: 0.8347\n",
            "Epoch 265/300\n",
            "8/8 [==============================] - 0s 3ms/step - loss: 0.4149 - accuracy: 0.8388\n",
            "Epoch 266/300\n",
            "8/8 [==============================] - 0s 3ms/step - loss: 0.4178 - accuracy: 0.8264\n",
            "Epoch 267/300\n",
            "8/8 [==============================] - 0s 4ms/step - loss: 0.4143 - accuracy: 0.8347\n",
            "Epoch 268/300\n",
            "8/8 [==============================] - 0s 3ms/step - loss: 0.4156 - accuracy: 0.8347\n",
            "Epoch 269/300\n",
            "8/8 [==============================] - 0s 3ms/step - loss: 0.4165 - accuracy: 0.8388\n",
            "Epoch 270/300\n",
            "8/8 [==============================] - 0s 3ms/step - loss: 0.4117 - accuracy: 0.8264\n",
            "Epoch 271/300\n",
            "8/8 [==============================] - 0s 3ms/step - loss: 0.4177 - accuracy: 0.8223\n",
            "Epoch 272/300\n",
            "8/8 [==============================] - 0s 3ms/step - loss: 0.4133 - accuracy: 0.8430\n",
            "Epoch 273/300\n",
            "8/8 [==============================] - 0s 3ms/step - loss: 0.4097 - accuracy: 0.8347\n",
            "Epoch 274/300\n",
            "8/8 [==============================] - 0s 4ms/step - loss: 0.4092 - accuracy: 0.8430\n",
            "Epoch 275/300\n",
            "8/8 [==============================] - 0s 3ms/step - loss: 0.4140 - accuracy: 0.8306\n",
            "Epoch 276/300\n",
            "8/8 [==============================] - 0s 4ms/step - loss: 0.4127 - accuracy: 0.8264\n",
            "Epoch 277/300\n",
            "8/8 [==============================] - 0s 3ms/step - loss: 0.4162 - accuracy: 0.8264\n",
            "Epoch 278/300\n",
            "8/8 [==============================] - 0s 3ms/step - loss: 0.4078 - accuracy: 0.8347\n",
            "Epoch 279/300\n",
            "8/8 [==============================] - 0s 4ms/step - loss: 0.4112 - accuracy: 0.8182\n",
            "Epoch 280/300\n",
            "8/8 [==============================] - 0s 3ms/step - loss: 0.4158 - accuracy: 0.8223\n",
            "Epoch 281/300\n",
            "8/8 [==============================] - 0s 3ms/step - loss: 0.4085 - accuracy: 0.8264\n",
            "Epoch 282/300\n",
            "8/8 [==============================] - 0s 3ms/step - loss: 0.4080 - accuracy: 0.8306\n",
            "Epoch 283/300\n",
            "8/8 [==============================] - 0s 3ms/step - loss: 0.4069 - accuracy: 0.8347\n",
            "Epoch 284/300\n",
            "8/8 [==============================] - 0s 3ms/step - loss: 0.4047 - accuracy: 0.8430\n",
            "Epoch 285/300\n",
            "8/8 [==============================] - 0s 3ms/step - loss: 0.4039 - accuracy: 0.8347\n",
            "Epoch 286/300\n",
            "8/8 [==============================] - 0s 3ms/step - loss: 0.4035 - accuracy: 0.8388\n",
            "Epoch 287/300\n",
            "8/8 [==============================] - 0s 3ms/step - loss: 0.4039 - accuracy: 0.8471\n",
            "Epoch 288/300\n",
            "8/8 [==============================] - 0s 3ms/step - loss: 0.4045 - accuracy: 0.8306\n",
            "Epoch 289/300\n",
            "8/8 [==============================] - 0s 3ms/step - loss: 0.4122 - accuracy: 0.8264\n",
            "Epoch 290/300\n",
            "8/8 [==============================] - 0s 4ms/step - loss: 0.4002 - accuracy: 0.8430\n",
            "Epoch 291/300\n",
            "8/8 [==============================] - 0s 3ms/step - loss: 0.4027 - accuracy: 0.8306\n",
            "Epoch 292/300\n",
            "8/8 [==============================] - 0s 3ms/step - loss: 0.3996 - accuracy: 0.8430\n",
            "Epoch 293/300\n",
            "8/8 [==============================] - 0s 3ms/step - loss: 0.4005 - accuracy: 0.8388\n",
            "Epoch 294/300\n",
            "8/8 [==============================] - 0s 3ms/step - loss: 0.3993 - accuracy: 0.8430\n",
            "Epoch 295/300\n",
            "8/8 [==============================] - 0s 3ms/step - loss: 0.3998 - accuracy: 0.8306\n",
            "Epoch 296/300\n",
            "8/8 [==============================] - 0s 3ms/step - loss: 0.3973 - accuracy: 0.8388\n",
            "Epoch 297/300\n",
            "8/8 [==============================] - 0s 4ms/step - loss: 0.3985 - accuracy: 0.8430\n",
            "Epoch 298/300\n",
            "8/8 [==============================] - 0s 4ms/step - loss: 0.3975 - accuracy: 0.8388\n",
            "Epoch 299/300\n",
            "8/8 [==============================] - 0s 4ms/step - loss: 0.3985 - accuracy: 0.8388\n",
            "Epoch 300/300\n",
            "8/8 [==============================] - 0s 3ms/step - loss: 0.3957 - accuracy: 0.8554\n"
          ]
        },
        {
          "data": {
            "text/plain": [
              "<keras.callbacks.History at 0x7f944ac56b80>"
            ]
          },
          "execution_count": 72,
          "metadata": {},
          "output_type": "execute_result"
        }
      ],
      "source": [
        "model.fit(X_train,Y_train,epochs=300)"
      ]
    },
    {
      "cell_type": "code",
      "execution_count": null,
      "metadata": {
        "colab": {
          "base_uri": "https://localhost:8080/"
        },
        "id": "zwBW83xjT7rm",
        "outputId": "c3a9bf7c-c6f2-4a8d-f048-14a1b8786186"
      },
      "outputs": [
        {
          "name": "stdout",
          "output_type": "stream",
          "text": [
            "2/2 [==============================] - 0s 7ms/step\n"
          ]
        }
      ],
      "source": [
        "Y_pred_nn = model.predict(X_test)"
      ]
    },
    {
      "cell_type": "code",
      "execution_count": null,
      "metadata": {
        "colab": {
          "base_uri": "https://localhost:8080/"
        },
        "id": "Pa3VTgq5T98G",
        "outputId": "38d6bcde-8198-4c58-d5bd-f941ff68f6c8"
      },
      "outputs": [
        {
          "data": {
            "text/plain": [
              "(61, 1)"
            ]
          },
          "execution_count": 74,
          "metadata": {},
          "output_type": "execute_result"
        }
      ],
      "source": [
        "Y_pred_nn.shape"
      ]
    },
    {
      "cell_type": "code",
      "execution_count": null,
      "metadata": {
        "id": "pEX52d30T_ct"
      },
      "outputs": [],
      "source": [
        "rounded = [round(x[0]) for x in Y_pred_nn]\n",
        "\n",
        "Y_pred_nn = rounded"
      ]
    },
    {
      "cell_type": "code",
      "execution_count": null,
      "metadata": {
        "colab": {
          "base_uri": "https://localhost:8080/"
        },
        "id": "ntlY08jCUDnT",
        "outputId": "5f5c618b-a38c-46b2-8888-e359120d71ec"
      },
      "outputs": [
        {
          "name": "stdout",
          "output_type": "stream",
          "text": [
            "The Accuracy Score achieved using Neural Network is: 77.05 %\n"
          ]
        }
      ],
      "source": [
        "acc_score_nn = round(accuracy_score(Y_pred_nn,Y_test)*100,2)\n",
        "\n",
        "print(\"The Accuracy Score achieved using Neural Network is: \"+str(acc_score_nn)+\" %\")"
      ]
    },
    {
      "cell_type": "code",
      "execution_count": null,
      "metadata": {
        "colab": {
          "base_uri": "https://localhost:8080/"
        },
        "id": "sS_G1QseE0wP",
        "outputId": "098ad603-6456-455a-b68b-7492051ff061"
      },
      "outputs": [
        {
          "name": "stdout",
          "output_type": "stream",
          "text": [
            "The Precision Score achieved using Neural Network is: 82.35 %\n"
          ]
        }
      ],
      "source": [
        "pre_score_nn = round(precision_score(Y_pred_nn,Y_test)*100,2)\n",
        "\n",
        "print(\"The Precision Score achieved using Neural Network is: \"+str(pre_score_nn)+\" %\")"
      ]
    },
    {
      "cell_type": "code",
      "execution_count": null,
      "metadata": {
        "colab": {
          "base_uri": "https://localhost:8080/"
        },
        "id": "wMxzaPh0E0tB",
        "outputId": "00ae66d3-b246-422f-f1af-2d99237051ba"
      },
      "outputs": [
        {
          "name": "stdout",
          "output_type": "stream",
          "text": [
            "The Recall Score achieved using Neural Network is: 77.78 %\n"
          ]
        }
      ],
      "source": [
        "rec_score_nn = round(recall_score(Y_pred_nn,Y_test)*100,2)\n",
        "\n",
        "print(\"The Recall Score achieved using Neural Network is: \"+str(rec_score_nn)+\" %\")"
      ]
    },
    {
      "cell_type": "code",
      "execution_count": null,
      "metadata": {
        "colab": {
          "base_uri": "https://localhost:8080/"
        },
        "id": "DsMQ33a4E0pc",
        "outputId": "ca59e18a-2a5c-491d-a742-bb989607a57d"
      },
      "outputs": [
        {
          "name": "stdout",
          "output_type": "stream",
          "text": [
            "The F1-Score achieved using Neural Network is: 80.0 %\n"
          ]
        }
      ],
      "source": [
        "f1_score_nn = round(f1_score(Y_pred_nn,Y_test)*100,2)\n",
        "\n",
        "print(\"The F1-Score achieved using Neural Network is: \"+str(f1_score_nn)+\" %\")"
      ]
    },
    {
      "cell_type": "markdown",
      "metadata": {
        "id": "O2ruhZpo7wSW"
      },
      "source": [
        "### Final Score and Overall Comparision "
      ]
    },
    {
      "cell_type": "code",
      "execution_count": null,
      "metadata": {
        "colab": {
          "base_uri": "https://localhost:8080/"
        },
        "id": "wba-GhBGUFZu",
        "outputId": "b03e33e7-f350-40c6-ec70-ea29313b5bf8"
      },
      "outputs": [
        {
          "name": "stdout",
          "output_type": "stream",
          "text": [
            "The accuracy score achieved using Logistic Regression is: 85.25 %\n",
            "The accuracy score achieved using Naive Bayes is: 85.25 %\n",
            "The accuracy score achieved using SVM is: 81.97 %\n",
            "The accuracy score achieved using K-Nearest Neighbors is: 67.21 %\n",
            "The accuracy score achieved using Decision Tree is: 81.97 %\n",
            "The accuracy score achieved using Random Forest is: 90.16 %\n",
            "The accuracy score achieved using XGBoost is: 85.25 %\n",
            "The accuracy score achieved using Neural Network is: 77.05 %\n"
          ]
        }
      ],
      "source": [
        "acc_scores = [acc_score_lr,acc_score_nb,acc_score_svm,acc_score_knn,acc_score_dt,acc_score_rf,acc_score_xgb,acc_score_nn]\n",
        "algorithms = [\"Logistic Regression\",\"Naive Bayes\",\"SVM\",\"K-Nearest Neighbors\",\"Decision Tree\",\"Random Forest\",\"XGBoost\",\"Neural Network\"]    \n",
        "\n",
        "for i in range(len(algorithms)):\n",
        "    print(\"The accuracy score achieved using \"+algorithms[i]+\" is: \"+str(acc_scores[i])+\" %\")"
      ]
    },
    {
      "cell_type": "code",
      "execution_count": null,
      "metadata": {
        "colab": {
          "base_uri": "https://localhost:8080/",
          "height": 577
        },
        "id": "m9AxTqDWUINf",
        "outputId": "71aa5e32-3641-492a-9114-839833a4caa6"
      },
      "outputs": [
        {
          "name": "stderr",
          "output_type": "stream",
          "text": [
            "/usr/local/lib/python3.8/dist-packages/seaborn/_decorators.py:36: FutureWarning: Pass the following variables as keyword args: x, y. From version 0.12, the only valid positional argument will be `data`, and passing other arguments without an explicit keyword will result in an error or misinterpretation.\n",
            "  warnings.warn(\n"
          ]
        },
        {
          "data": {
            "text/plain": [
              "<matplotlib.axes._subplots.AxesSubplot at 0x7f94aeac9ac0>"
            ]
          },
          "execution_count": 97,
          "metadata": {},
          "output_type": "execute_result"
        },
        {
          "data": {
            "image/png": "[encoded data removed]",
            "text/plain": [
              "<Figure size 1080x576 with 1 Axes>"
            ]
          },
          "metadata": {},
          "output_type": "display_data"
        }
      ],
      "source": [
        "sns.set(rc={'figure.figsize':(15,8)})\n",
        "plt.xlabel(\"Algorithms\")\n",
        "plt.ylabel(\"Accuracy score\")\n",
        "\n",
        "sns.barplot(algorithms,acc_scores)"
      ]
    },
    {
      "cell_type": "code",
      "execution_count": null,
      "metadata": {
        "colab": {
          "base_uri": "https://localhost:8080/"
        },
        "id": "dWASgJUIFcXO",
        "outputId": "9e6a5438-8f50-421b-d590-e61a8ef313e5"
      },
      "outputs": [
        {
          "name": "stdout",
          "output_type": "stream",
          "text": [
            "The Precision Score achieved using Logistic Regression is: 88.24 %\n",
            "The Precision Score achieved using Naive Bayes is: 91.18 %\n",
            "The Precision Score achieved using SVM is: 88.24 %\n",
            "The Precision Score achieved using K-Nearest Neighbors is: 67.65 %\n",
            "The Precision Score achieved using Decision Tree is: 82.35 %\n",
            "The Precision Score achieved using Random Forest is: 94.12 %\n",
            "The Precision Score achieved using XGBoost is: 88.24 %\n",
            "The Precision Score achieved using Neural Network is: 82.35 %\n"
          ]
        }
      ],
      "source": [
        "pre_scores = [pre_score_lr,pre_score_nb,pre_score_svm,pre_score_knn,pre_score_dt,pre_score_rf,pre_score_xgb,pre_score_nn]\n",
        "algorithms = [\"Logistic Regression\",\"Naive Bayes\",\"SVM\",\"K-Nearest Neighbors\",\"Decision Tree\",\"Random Forest\",\"XGBoost\",\"Neural Network\"]    \n",
        "\n",
        "for i in range(len(algorithms)):\n",
        "    print(\"The Precision Score achieved using \"+algorithms[i]+\" is: \"+str(pre_scores[i])+\" %\")"
      ]
    },
    {
      "cell_type": "code",
      "execution_count": null,
      "metadata": {
        "colab": {
          "base_uri": "https://localhost:8080/",
          "height": 577
        },
        "id": "36zepwqkFoup",
        "outputId": "abc172eb-433c-4185-f78c-416dd3addee5"
      },
      "outputs": [
        {
          "name": "stderr",
          "output_type": "stream",
          "text": [
            "/usr/local/lib/python3.8/dist-packages/seaborn/_decorators.py:36: FutureWarning: Pass the following variables as keyword args: x, y. From version 0.12, the only valid positional argument will be `data`, and passing other arguments without an explicit keyword will result in an error or misinterpretation.\n",
            "  warnings.warn(\n"
          ]
        },
        {
          "data": {
            "text/plain": [
              "<matplotlib.axes._subplots.AxesSubplot at 0x7f9449327700>"
            ]
          },
          "execution_count": 92,
          "metadata": {},
          "output_type": "execute_result"
        },
        {
          "data": {
            "image/png": "[encoded data removed]",
            "text/plain": [
              "<Figure size 1080x576 with 1 Axes>"
            ]
          },
          "metadata": {},
          "output_type": "display_data"
        }
      ],
      "source": [
        "sns.set(rc={'figure.figsize':(15,8)})\n",
        "plt.xlabel(\"Algorithms\")\n",
        "plt.ylabel(\"Precision score\")\n",
        "\n",
        "sns.barplot(algorithms,pre_scores)"
      ]
    },
    {
      "cell_type": "code",
      "execution_count": null,
      "metadata": {
        "colab": {
          "base_uri": "https://localhost:8080/"
        },
        "id": "CrMLAEGNFcTp",
        "outputId": "17362c32-8d6f-4d37-9717-2cce5a3a6d34"
      },
      "outputs": [
        {
          "name": "stdout",
          "output_type": "stream",
          "text": [
            "The Recall Score achieved using Logistic Regression is: 85.71 %\n",
            "The Recall Score achieved using Naive Bayes is: 83.78 %\n",
            "The Recall Score achieved using SVM is: 81.08 %\n",
            "The Recall Score achieved using K-Nearest Neighbors is: 71.88 %\n",
            "The Recall Score achieved using Decision Tree is: 84.85 %\n",
            "The Recall Score achieved using Random Forest is: 88.89 %\n",
            "The Recall Score achieved using XGBoost is: 85.71 %\n",
            "The Recall Score achieved using Neural Network is: 77.78 %\n"
          ]
        }
      ],
      "source": [
        "rec_scores = [rec_score_lr,rec_score_nb,rec_score_svm,rec_score_knn,rec_score_dt,rec_score_rf,rec_score_xgb,rec_score_nn]\n",
        "algorithms = [\"Logistic Regression\",\"Naive Bayes\",\"SVM\",\"K-Nearest Neighbors\",\"Decision Tree\",\"Random Forest\",\"XGBoost\",\"Neural Network\"]    \n",
        "\n",
        "for i in range(len(algorithms)):\n",
        "    print(\"The Recall Score achieved using \"+algorithms[i]+\" is: \"+str(rec_scores[i])+\" %\")"
      ]
    },
    {
      "cell_type": "code",
      "execution_count": null,
      "metadata": {
        "colab": {
          "base_uri": "https://localhost:8080/",
          "height": 577
        },
        "id": "KHuh5AUrFpdd",
        "outputId": "427b97c9-e716-49dd-9633-85aa5aa38ea7"
      },
      "outputs": [
        {
          "name": "stderr",
          "output_type": "stream",
          "text": [
            "/usr/local/lib/python3.8/dist-packages/seaborn/_decorators.py:36: FutureWarning: Pass the following variables as keyword args: x, y. From version 0.12, the only valid positional argument will be `data`, and passing other arguments without an explicit keyword will result in an error or misinterpretation.\n",
            "  warnings.warn(\n"
          ]
        },
        {
          "data": {
            "text/plain": [
              "<matplotlib.axes._subplots.AxesSubplot at 0x7f944a920790>"
            ]
          },
          "execution_count": 94,
          "metadata": {},
          "output_type": "execute_result"
        },
        {
          "data": {
            "image/png": "[encoded data removed]",
            "text/plain": [
              "<Figure size 1080x576 with 1 Axes>"
            ]
          },
          "metadata": {},
          "output_type": "display_data"
        }
      ],
      "source": [
        "sns.set(rc={'figure.figsize':(15,8)})\n",
        "plt.xlabel(\"Algorithms\")\n",
        "plt.ylabel(\"Recall score\")\n",
        "\n",
        "sns.barplot(algorithms,rec_scores)"
      ]
    },
    {
      "cell_type": "code",
      "execution_count": null,
      "metadata": {
        "colab": {
          "base_uri": "https://localhost:8080/"
        },
        "id": "gil1W1SbFcQD",
        "outputId": "eaf11051-6ca5-475a-bf26-71a7c6de8b5c"
      },
      "outputs": [
        {
          "name": "stdout",
          "output_type": "stream",
          "text": [
            "The F1-Score achieved using Logistic Regression is: 86.96 %\n",
            "The F1-Score achieved using Naive Bayes is: 87.32 %\n",
            "The F1-Score achieved using SVM is: 84.51 %\n",
            "The F1-Score achieved using K-Nearest Neighbors is: 69.7 %\n",
            "The F1-Score achieved using Decision Tree is: 83.58 %\n",
            "The F1-Score achieved using Random Forest is: 91.43 %\n",
            "The F1-Score achieved using XGBoost is: 86.96 %\n",
            "The F1-Score achieved using Neural Network is: 80.0 %\n"
          ]
        }
      ],
      "source": [
        "f1_scores = [f1_score_lr,f1_score_nb,f1_score_svm,f1_score_knn,f1_score_dt,f1_score_rf,f1_score_xgb,f1_score_nn]\n",
        "algorithms = [\"Logistic Regression\",\"Naive Bayes\",\"SVM\",\"K-Nearest Neighbors\",\"Decision Tree\",\"Random Forest\",\"XGBoost\",\"Neural Network\"]    \n",
        "\n",
        "for i in range(len(algorithms)):\n",
        "    print(\"The F1-Score achieved using \"+algorithms[i]+\" is: \"+str(f1_scores[i])+\" %\")"
      ]
    },
    {
      "cell_type": "code",
      "execution_count": null,
      "metadata": {
        "colab": {
          "base_uri": "https://localhost:8080/",
          "height": 577
        },
        "id": "VFOGldQPFqKi",
        "outputId": "877b9cf0-feff-46ce-9c24-f9782bf35d86"
      },
      "outputs": [
        {
          "name": "stderr",
          "output_type": "stream",
          "text": [
            "/usr/local/lib/python3.8/dist-packages/seaborn/_decorators.py:36: FutureWarning: Pass the following variables as keyword args: x, y. From version 0.12, the only valid positional argument will be `data`, and passing other arguments without an explicit keyword will result in an error or misinterpretation.\n",
            "  warnings.warn(\n"
          ]
        },
        {
          "data": {
            "text/plain": [
              "<matplotlib.axes._subplots.AxesSubplot at 0x7f944a7b9580>"
            ]
          },
          "execution_count": 99,
          "metadata": {},
          "output_type": "execute_result"
        },
        {
          "data": {
            "image/png": "[encoded data removed]",
            "text/plain": [
              "<Figure size 1080x576 with 1 Axes>"
            ]
          },
          "metadata": {},
          "output_type": "display_data"
        }
      ],
      "source": [
        "sns.set(rc={'figure.figsize':(15,8)})\n",
        "plt.xlabel(\"Algorithms\")\n",
        "plt.ylabel(\"F1-Score\")\n",
        "\n",
        "sns.barplot(algorithms,f1_scores)"
      ]
    }
  ],
  "metadata": {
    "colab": {
      "collapsed_sections": [
        "lh43sIyH59UL",
        "sSRRLXCF0LiS",
        "VD85WJG86F20",
        "MIzXwOAo7miN",
        "O2ruhZpo7wSW"
      ],
      "provenance": []
    },
    "kernelspec": {
      "display_name": "Python 3",
      "language": "python",
      "name": "python3"
    },
    "language_info": {
      "codemirror_mode": {
        "name": "ipython",
        "version": 3
      },
      "file_extension": ".py",
      "mimetype": "text/x-python",
      "name": "python",
      "nbconvert_exporter": "python",
      "pygments_lexer": "ipython3",
      "version": "3.8.16"
    },
    "vscode": {
      "interpreter": {
        "hash": "6d8bcec56a5dcd1ee8ebc6caf8a40aee15fe737ebbdbaffd6d3bd5ff977cb14f"
      }
    }
  },
  "nbformat": 4,
  "nbformat_minor": 0
}
